{
 "cells": [
  {
   "attachments": {},
   "cell_type": "markdown",
   "metadata": {},
   "source": [
    "# Import Library"
   ]
  },
  {
   "cell_type": "code",
   "execution_count": 367,
   "metadata": {},
   "outputs": [],
   "source": [
    "import pandas as pd\n",
    "import matplotlib.pyplot as plt\n",
    "import seaborn as sns\n",
    "import numpy as np\n",
    "from sklearn.preprocessing import PowerTransformer,LabelEncoder,StandardScaler,RobustScaler,MinMaxScaler\n",
    "from sklearn.preprocessing import LabelEncoder\n",
    "from sklearn.metrics import classification_report,confusion_matrix,f1_score, accuracy_score,precision_score,recall_score\n",
    "\n",
    "\n",
    "pd.set_option('display.max_columns',None)"
   ]
  },
  {
   "attachments": {},
   "cell_type": "markdown",
   "metadata": {},
   "source": [
    "# Import Dataset"
   ]
  },
  {
   "cell_type": "code",
   "execution_count": 368,
   "metadata": {},
   "outputs": [],
   "source": [
    "df = pd.read_csv('DOTA2.csv')"
   ]
  },
  {
   "attachments": {},
   "cell_type": "markdown",
   "metadata": {},
   "source": [
    "# Data Preprocessing"
   ]
  },
  {
   "cell_type": "code",
   "execution_count": 369,
   "metadata": {},
   "outputs": [
    {
     "data": {
      "text/html": [
       "<div>\n",
       "<style scoped>\n",
       "    .dataframe tbody tr th:only-of-type {\n",
       "        vertical-align: middle;\n",
       "    }\n",
       "\n",
       "    .dataframe tbody tr th {\n",
       "        vertical-align: top;\n",
       "    }\n",
       "\n",
       "    .dataframe thead th {\n",
       "        text-align: right;\n",
       "    }\n",
       "</style>\n",
       "<table border=\"1\" class=\"dataframe\">\n",
       "  <thead>\n",
       "    <tr style=\"text-align: right;\">\n",
       "      <th></th>\n",
       "      <th>status</th>\n",
       "      <th>hero_1</th>\n",
       "      <th>hero_2</th>\n",
       "      <th>hero_3</th>\n",
       "      <th>hero_4</th>\n",
       "      <th>hero_5</th>\n",
       "      <th>R1</th>\n",
       "      <th>R2</th>\n",
       "      <th>R3</th>\n",
       "      <th>R4</th>\n",
       "      <th>R5</th>\n",
       "      <th>L1</th>\n",
       "      <th>L2</th>\n",
       "      <th>L3</th>\n",
       "      <th>L4</th>\n",
       "      <th>L5</th>\n",
       "      <th>K</th>\n",
       "      <th>D</th>\n",
       "      <th>A</th>\n",
       "      <th>NET</th>\n",
       "      <th>GPM</th>\n",
       "      <th>XPM</th>\n",
       "      <th>DMG</th>\n",
       "      <th>HEAL</th>\n",
       "      <th>BLD</th>\n",
       "      <th>WARDS_KUNING</th>\n",
       "      <th>WARDS_BIRU</th>\n",
       "      <th>IH1_1</th>\n",
       "      <th>IH1_2</th>\n",
       "      <th>IH1_3</th>\n",
       "      <th>IH1_4</th>\n",
       "      <th>IH1_5</th>\n",
       "      <th>IH1_6</th>\n",
       "      <th>IH1_7</th>\n",
       "      <th>IH2_1</th>\n",
       "      <th>IH2_2</th>\n",
       "      <th>IH2_3</th>\n",
       "      <th>IH2_4</th>\n",
       "      <th>IH2_5</th>\n",
       "      <th>IH2_6</th>\n",
       "      <th>IH2_7</th>\n",
       "      <th>IH3_1</th>\n",
       "      <th>IH3_2</th>\n",
       "      <th>IH3_3</th>\n",
       "      <th>IH3_4</th>\n",
       "      <th>IH3_5</th>\n",
       "      <th>IH3_6</th>\n",
       "      <th>IH3_7</th>\n",
       "      <th>IH4_1</th>\n",
       "      <th>IH4_2</th>\n",
       "      <th>IH4_3</th>\n",
       "      <th>IH4_4</th>\n",
       "      <th>IH4_5</th>\n",
       "      <th>IH4_6</th>\n",
       "      <th>IH4_7</th>\n",
       "      <th>IH5_1</th>\n",
       "      <th>IH5_2</th>\n",
       "      <th>IH5_3</th>\n",
       "      <th>IH5_4</th>\n",
       "      <th>IH5_5</th>\n",
       "      <th>IH5_6</th>\n",
       "      <th>IH5_7</th>\n",
       "      <th>Time</th>\n",
       "    </tr>\n",
       "  </thead>\n",
       "  <tbody>\n",
       "    <tr>\n",
       "      <th>0</th>\n",
       "      <td>W</td>\n",
       "      <td>85</td>\n",
       "      <td>38</td>\n",
       "      <td>17</td>\n",
       "      <td>137</td>\n",
       "      <td>14</td>\n",
       "      <td>Support</td>\n",
       "      <td>Core</td>\n",
       "      <td>Core</td>\n",
       "      <td>Core</td>\n",
       "      <td>Core</td>\n",
       "      <td>Bottom</td>\n",
       "      <td>Top</td>\n",
       "      <td>Middle</td>\n",
       "      <td>Roaming</td>\n",
       "      <td>Bottom</td>\n",
       "      <td>31</td>\n",
       "      <td>11</td>\n",
       "      <td>80</td>\n",
       "      <td>71700</td>\n",
       "      <td>2500</td>\n",
       "      <td>3300</td>\n",
       "      <td>75300</td>\n",
       "      <td>14000</td>\n",
       "      <td>20100.0</td>\n",
       "      <td>15</td>\n",
       "      <td>22</td>\n",
       "      <td>269</td>\n",
       "      <td>214</td>\n",
       "      <td>218</td>\n",
       "      <td>79</td>\n",
       "      <td>30</td>\n",
       "      <td>185</td>\n",
       "      <td>290</td>\n",
       "      <td>185</td>\n",
       "      <td>635</td>\n",
       "      <td>36</td>\n",
       "      <td>29</td>\n",
       "      <td>9</td>\n",
       "      <td>116</td>\n",
       "      <td>306</td>\n",
       "      <td>63</td>\n",
       "      <td>116</td>\n",
       "      <td>178</td>\n",
       "      <td>259</td>\n",
       "      <td>250</td>\n",
       "      <td>41</td>\n",
       "      <td>361</td>\n",
       "      <td>50</td>\n",
       "      <td>116</td>\n",
       "      <td>185</td>\n",
       "      <td>1</td>\n",
       "      <td>36</td>\n",
       "      <td>31</td>\n",
       "      <td>574</td>\n",
       "      <td>50</td>\n",
       "      <td>116</td>\n",
       "      <td>117</td>\n",
       "      <td>1</td>\n",
       "      <td>108</td>\n",
       "      <td>131</td>\n",
       "      <td>331</td>\n",
       "      <td>31</td>\n",
       "    </tr>\n",
       "    <tr>\n",
       "      <th>1</th>\n",
       "      <td>L</td>\n",
       "      <td>110</td>\n",
       "      <td>136</td>\n",
       "      <td>58</td>\n",
       "      <td>22</td>\n",
       "      <td>41</td>\n",
       "      <td>Support</td>\n",
       "      <td>Core</td>\n",
       "      <td>Support</td>\n",
       "      <td>Core</td>\n",
       "      <td>Core</td>\n",
       "      <td>Bottom</td>\n",
       "      <td>Bottom</td>\n",
       "      <td>Roaming</td>\n",
       "      <td>Middle</td>\n",
       "      <td>Top</td>\n",
       "      <td>10</td>\n",
       "      <td>37</td>\n",
       "      <td>30</td>\n",
       "      <td>45300</td>\n",
       "      <td>1800</td>\n",
       "      <td>1900</td>\n",
       "      <td>55500</td>\n",
       "      <td>3600</td>\n",
       "      <td>1200.0</td>\n",
       "      <td>16</td>\n",
       "      <td>30</td>\n",
       "      <td>0</td>\n",
       "      <td>0</td>\n",
       "      <td>34</td>\n",
       "      <td>98</td>\n",
       "      <td>244</td>\n",
       "      <td>214</td>\n",
       "      <td>290</td>\n",
       "      <td>50</td>\n",
       "      <td>11</td>\n",
       "      <td>36</td>\n",
       "      <td>17</td>\n",
       "      <td>73</td>\n",
       "      <td>116</td>\n",
       "      <td>949</td>\n",
       "      <td>185</td>\n",
       "      <td>218</td>\n",
       "      <td>29</td>\n",
       "      <td>0</td>\n",
       "      <td>36</td>\n",
       "      <td>593</td>\n",
       "      <td>676</td>\n",
       "      <td>259</td>\n",
       "      <td>36</td>\n",
       "      <td>100</td>\n",
       "      <td>180</td>\n",
       "      <td>0</td>\n",
       "      <td>41</td>\n",
       "      <td>990</td>\n",
       "      <td>63</td>\n",
       "      <td>116</td>\n",
       "      <td>166</td>\n",
       "      <td>0</td>\n",
       "      <td>36</td>\n",
       "      <td>75</td>\n",
       "      <td>306</td>\n",
       "      <td>31</td>\n",
       "    </tr>\n",
       "    <tr>\n",
       "      <th>2</th>\n",
       "      <td>L</td>\n",
       "      <td>38</td>\n",
       "      <td>19</td>\n",
       "      <td>128</td>\n",
       "      <td>14</td>\n",
       "      <td>114</td>\n",
       "      <td>Core</td>\n",
       "      <td>Support</td>\n",
       "      <td>Support</td>\n",
       "      <td>Core</td>\n",
       "      <td>Core</td>\n",
       "      <td>Top</td>\n",
       "      <td>Top</td>\n",
       "      <td>Roaming</td>\n",
       "      <td>Bottom</td>\n",
       "      <td>Middle</td>\n",
       "      <td>19</td>\n",
       "      <td>37</td>\n",
       "      <td>37</td>\n",
       "      <td>51100</td>\n",
       "      <td>1900</td>\n",
       "      <td>2400</td>\n",
       "      <td>91800</td>\n",
       "      <td>1400</td>\n",
       "      <td>3300.0</td>\n",
       "      <td>15</td>\n",
       "      <td>25</td>\n",
       "      <td>931</td>\n",
       "      <td>11</td>\n",
       "      <td>635</td>\n",
       "      <td>34</td>\n",
       "      <td>0</td>\n",
       "      <td>0</td>\n",
       "      <td>675</td>\n",
       "      <td>180</td>\n",
       "      <td>40</td>\n",
       "      <td>34</td>\n",
       "      <td>244</td>\n",
       "      <td>1</td>\n",
       "      <td>188</td>\n",
       "      <td>838</td>\n",
       "      <td>102</td>\n",
       "      <td>188</td>\n",
       "      <td>218</td>\n",
       "      <td>34</td>\n",
       "      <td>29</td>\n",
       "      <td>38</td>\n",
       "      <td>357</td>\n",
       "      <td>31</td>\n",
       "      <td>50</td>\n",
       "      <td>116</td>\n",
       "      <td>108</td>\n",
       "      <td>73</td>\n",
       "      <td>125</td>\n",
       "      <td>358</td>\n",
       "      <td>50</td>\n",
       "      <td>116</td>\n",
       "      <td>168</td>\n",
       "      <td>36</td>\n",
       "      <td>569</td>\n",
       "      <td>252</td>\n",
       "      <td>828</td>\n",
       "      <td>32</td>\n",
       "    </tr>\n",
       "    <tr>\n",
       "      <th>3</th>\n",
       "      <td>W</td>\n",
       "      <td>54</td>\n",
       "      <td>136</td>\n",
       "      <td>61</td>\n",
       "      <td>52</td>\n",
       "      <td>31</td>\n",
       "      <td>Core</td>\n",
       "      <td>Support</td>\n",
       "      <td>Core</td>\n",
       "      <td>Core</td>\n",
       "      <td>Support</td>\n",
       "      <td>Top</td>\n",
       "      <td>Bottom</td>\n",
       "      <td>Bottom</td>\n",
       "      <td>Middle</td>\n",
       "      <td>Top</td>\n",
       "      <td>37</td>\n",
       "      <td>20</td>\n",
       "      <td>98</td>\n",
       "      <td>77200</td>\n",
       "      <td>2700</td>\n",
       "      <td>3500</td>\n",
       "      <td>105200</td>\n",
       "      <td>11700</td>\n",
       "      <td>30200.0</td>\n",
       "      <td>16</td>\n",
       "      <td>27</td>\n",
       "      <td>112</td>\n",
       "      <td>50</td>\n",
       "      <td>143</td>\n",
       "      <td>151</td>\n",
       "      <td>154</td>\n",
       "      <td>168</td>\n",
       "      <td>828</td>\n",
       "      <td>30</td>\n",
       "      <td>1</td>\n",
       "      <td>36</td>\n",
       "      <td>214</td>\n",
       "      <td>254</td>\n",
       "      <td>232</td>\n",
       "      <td>949</td>\n",
       "      <td>139</td>\n",
       "      <td>75</td>\n",
       "      <td>908</td>\n",
       "      <td>180</td>\n",
       "      <td>116</td>\n",
       "      <td>75</td>\n",
       "      <td>381</td>\n",
       "      <td>48</td>\n",
       "      <td>119</td>\n",
       "      <td>121</td>\n",
       "      <td>31</td>\n",
       "      <td>1</td>\n",
       "      <td>116</td>\n",
       "      <td>357</td>\n",
       "      <td>36</td>\n",
       "      <td>102</td>\n",
       "      <td>254</td>\n",
       "      <td>218</td>\n",
       "      <td>214</td>\n",
       "      <td>0</td>\n",
       "      <td>675</td>\n",
       "      <td>32</td>\n",
       "    </tr>\n",
       "    <tr>\n",
       "      <th>4</th>\n",
       "      <td>L</td>\n",
       "      <td>128</td>\n",
       "      <td>65</td>\n",
       "      <td>43</td>\n",
       "      <td>6</td>\n",
       "      <td>137</td>\n",
       "      <td>Support</td>\n",
       "      <td>Core</td>\n",
       "      <td>Core</td>\n",
       "      <td>Core</td>\n",
       "      <td>Support</td>\n",
       "      <td>Bottom</td>\n",
       "      <td>Middle</td>\n",
       "      <td>Top</td>\n",
       "      <td>Bottom</td>\n",
       "      <td>Top</td>\n",
       "      <td>11</td>\n",
       "      <td>28</td>\n",
       "      <td>24</td>\n",
       "      <td>44700</td>\n",
       "      <td>1600</td>\n",
       "      <td>1900</td>\n",
       "      <td>63400</td>\n",
       "      <td>0</td>\n",
       "      <td>2200.0</td>\n",
       "      <td>14</td>\n",
       "      <td>27</td>\n",
       "      <td>0</td>\n",
       "      <td>0</td>\n",
       "      <td>42</td>\n",
       "      <td>102</td>\n",
       "      <td>36</td>\n",
       "      <td>214</td>\n",
       "      <td>331</td>\n",
       "      <td>48</td>\n",
       "      <td>36</td>\n",
       "      <td>116</td>\n",
       "      <td>1</td>\n",
       "      <td>40</td>\n",
       "      <td>232</td>\n",
       "      <td>828</td>\n",
       "      <td>244</td>\n",
       "      <td>596</td>\n",
       "      <td>48</td>\n",
       "      <td>40</td>\n",
       "      <td>36</td>\n",
       "      <td>116</td>\n",
       "      <td>1076</td>\n",
       "      <td>263</td>\n",
       "      <td>63</td>\n",
       "      <td>116</td>\n",
       "      <td>34</td>\n",
       "      <td>75</td>\n",
       "      <td>75</td>\n",
       "      <td>309</td>\n",
       "      <td>214</td>\n",
       "      <td>36</td>\n",
       "      <td>188</td>\n",
       "      <td>21</td>\n",
       "      <td>0</td>\n",
       "      <td>40</td>\n",
       "      <td>680</td>\n",
       "      <td>31</td>\n",
       "    </tr>\n",
       "  </tbody>\n",
       "</table>\n",
       "</div>"
      ],
      "text/plain": [
       "  status  hero_1  hero_2  hero_3  hero_4  hero_5       R1       R2       R3  \\\n",
       "0      W      85      38      17     137      14  Support     Core     Core   \n",
       "1      L     110     136      58      22      41  Support     Core  Support   \n",
       "2      L      38      19     128      14     114     Core  Support  Support   \n",
       "3      W      54     136      61      52      31     Core  Support     Core   \n",
       "4      L     128      65      43       6     137  Support     Core     Core   \n",
       "\n",
       "     R4       R5      L1      L2       L3       L4      L5   K   D   A    NET  \\\n",
       "0  Core     Core  Bottom     Top   Middle  Roaming  Bottom  31  11  80  71700   \n",
       "1  Core     Core  Bottom  Bottom  Roaming   Middle     Top  10  37  30  45300   \n",
       "2  Core     Core     Top     Top  Roaming   Bottom  Middle  19  37  37  51100   \n",
       "3  Core  Support     Top  Bottom   Bottom   Middle     Top  37  20  98  77200   \n",
       "4  Core  Support  Bottom  Middle      Top   Bottom     Top  11  28  24  44700   \n",
       "\n",
       "    GPM   XPM     DMG   HEAL      BLD  WARDS_KUNING  WARDS_BIRU  IH1_1  IH1_2  \\\n",
       "0  2500  3300   75300  14000  20100.0            15          22    269    214   \n",
       "1  1800  1900   55500   3600   1200.0            16          30      0      0   \n",
       "2  1900  2400   91800   1400   3300.0            15          25    931     11   \n",
       "3  2700  3500  105200  11700  30200.0            16          27    112     50   \n",
       "4  1600  1900   63400      0   2200.0            14          27      0      0   \n",
       "\n",
       "   IH1_3  IH1_4  IH1_5  IH1_6  IH1_7  IH2_1  IH2_2  IH2_3  IH2_4  IH2_5  \\\n",
       "0    218     79     30    185    290    185    635     36     29      9   \n",
       "1     34     98    244    214    290     50     11     36     17     73   \n",
       "2    635     34      0      0    675    180     40     34    244      1   \n",
       "3    143    151    154    168    828     30      1     36    214    254   \n",
       "4     42    102     36    214    331     48     36    116      1     40   \n",
       "\n",
       "   IH2_6  IH2_7  IH3_1  IH3_2  IH3_3  IH3_4  IH3_5  IH3_6  IH3_7  IH4_1  \\\n",
       "0    116    306     63    116    178    259    250     41    361     50   \n",
       "1    116    949    185    218     29      0     36    593    676    259   \n",
       "2    188    838    102    188    218     34     29     38    357     31   \n",
       "3    232    949    139     75    908    180    116     75    381     48   \n",
       "4    232    828    244    596     48     40     36    116   1076    263   \n",
       "\n",
       "   IH4_2  IH4_3  IH4_4  IH4_5  IH4_6  IH4_7  IH5_1  IH5_2  IH5_3  IH5_4  \\\n",
       "0    116    185      1     36     31    574     50    116    117      1   \n",
       "1     36    100    180      0     41    990     63    116    166      0   \n",
       "2     50    116    108     73    125    358     50    116    168     36   \n",
       "3    119    121     31      1    116    357     36    102    254    218   \n",
       "4     63    116     34     75     75    309    214     36    188     21   \n",
       "\n",
       "   IH5_5  IH5_6  IH5_7  Time  \n",
       "0    108    131    331    31  \n",
       "1     36     75    306    31  \n",
       "2    569    252    828    32  \n",
       "3    214      0    675    32  \n",
       "4      0     40    680    31  "
      ]
     },
     "execution_count": 369,
     "metadata": {},
     "output_type": "execute_result"
    }
   ],
   "source": [
    "# Mengubah waktu menjadi variabel menit\n",
    "df['Time'] = [int(time.split(':')[0])*60 + int(time.split(':')[1]) for time in df['DURASI'].values]\n",
    "\n",
    "df = df.drop(columns=['match_id','DURASI'])\n",
    "\n",
    "df.head()"
   ]
  },
  {
   "cell_type": "code",
   "execution_count": 370,
   "metadata": {},
   "outputs": [],
   "source": [
    "num = ['Time','K','D','A','NET','GPM','XPM','HEAL','BLD','WARDS_KUNING','WARDS_BIRU']\n",
    "obj = df.drop(columns=num).columns"
   ]
  },
  {
   "cell_type": "code",
   "execution_count": 371,
   "metadata": {},
   "outputs": [],
   "source": [
    "# Solve inconsistency data for Role variables\n",
    "map_role = {\n",
    "    'Core' : 'Core',\n",
    "    'Support' : 'Support',\n",
    "    'support' : 'Support',\n",
    "    'Support ' : 'Support',\n",
    "    'Supprt' : 'Support',\n",
    "    ' Suport' : 'Support'\n",
    "}\n",
    "\n",
    "df = df.replace(map_role, regex=True)"
   ]
  },
  {
   "cell_type": "code",
   "execution_count": 372,
   "metadata": {},
   "outputs": [],
   "source": [
    "map_lane = {\n",
    "    'Top' : 'Top',\n",
    "    'Bottom' : 'Bottom',\n",
    "    'Middle' : 'Middle',\n",
    "    'Roaming' : 'Roaming',\n",
    "    'Jungle' : 'Jungle',\n",
    "    'Bottom ' : 'Bottom',\n",
    "    'midle' : 'Middle',\n",
    "    'middle' : 'Middle',\n",
    "    'MIddle' : 'Middle',\n",
    "    'top' : 'Top',\n",
    "    'bottom' : 'Bottom',\n",
    "    'Nottom' : 'Bottom',\n",
    "    'Bototm' : 'Bottom',\n",
    "    ' Middle' : 'Middle',\n",
    "    'Roaing' : 'Roaming',\n",
    "    'Dire' : 'Jungle',\n",
    "    \n",
    "}\n",
    "\n",
    "df = df.replace(map_lane, regex=True)"
   ]
  },
  {
   "attachments": {},
   "cell_type": "markdown",
   "metadata": {},
   "source": [
    "##### Casting Data"
   ]
  },
  {
   "cell_type": "code",
   "execution_count": 373,
   "metadata": {},
   "outputs": [],
   "source": [
    "for col in obj:\n",
    "    df[col] = df[col].astype('object')"
   ]
  },
  {
   "attachments": {},
   "cell_type": "markdown",
   "metadata": {},
   "source": [
    "##### Encoding Data"
   ]
  },
  {
   "cell_type": "code",
   "execution_count": 374,
   "metadata": {},
   "outputs": [],
   "source": [
    "le = LabelEncoder()\n",
    "for column in obj:\n",
    "    df[column] = le.fit_transform(df[column])"
   ]
  },
  {
   "attachments": {},
   "cell_type": "markdown",
   "metadata": {},
   "source": [
    "##### Resampling Bootstrapping"
   ]
  },
  {
   "cell_type": "code",
   "execution_count": 375,
   "metadata": {},
   "outputs": [],
   "source": [
    "# Fungsi untuk melakukan resampling Bootstrap pada DataFrame\n",
    "def bootstrap_resampling(df, num_samples):\n",
    "    resamples = []\n",
    "    n = len(df)\n",
    "    for _ in range(num_samples):\n",
    "        # Mengambil sampel acak dengan penggantian\n",
    "        bootstrap_sample = df.sample(n=n, replace=True,random_state=42)\n",
    "        resamples.append(bootstrap_sample)\n",
    "    return resamples\n",
    "\n",
    "# Memanggil fungsi bootstrap_resampling()\n",
    "resamples = bootstrap_resampling(df, num_samples=10)\n",
    "\n",
    "# Menggabungkan semua sampel resampling menjadi satu dataset\n",
    "bootstrap_dataset = pd.concat(resamples, ignore_index=True)\n",
    "\n",
    "df = bootstrap_dataset"
   ]
  },
  {
   "cell_type": "code",
   "execution_count": 376,
   "metadata": {},
   "outputs": [
    {
     "data": {
      "text/plain": [
       "1    1530\n",
       "0    1370\n",
       "Name: status, dtype: int64"
      ]
     },
     "execution_count": 376,
     "metadata": {},
     "output_type": "execute_result"
    }
   ],
   "source": [
    "df.status.value_counts()"
   ]
  },
  {
   "attachments": {},
   "cell_type": "markdown",
   "metadata": {},
   "source": [
    "# Feature Scaling"
   ]
  },
  {
   "cell_type": "code",
   "execution_count": 377,
   "metadata": {},
   "outputs": [
    {
     "data": {
      "image/png": "[encoded data removed]",
      "text/plain": [
       "<Figure size 1000x2000 with 11 Axes>"
      ]
     },
     "metadata": {},
     "output_type": "display_data"
    }
   ],
   "source": [
    "plt.figure(figsize=(10,20))\n",
    "# plotting\n",
    "for i in range(0, len(num)):\n",
    "    plt.subplot(5, 5, i+1)\n",
    "    sns.boxplot(y=df[num[i]],color='teal', orient='v')\n",
    "    plt.tight_layout()"
   ]
  },
  {
   "cell_type": "code",
   "execution_count": 378,
   "metadata": {},
   "outputs": [],
   "source": [
    "# scaling pada data numerik\n",
    "scaler_num = RobustScaler()\n",
    "# scaler = MinMaxScaler()\n",
    "df[num] = scaler_num.fit_transform(df[num])\n",
    "scaler_power = PowerTransformer()\n",
    "df[num] = scaler_power.fit_transform(df[num])\n"
   ]
  },
  {
   "cell_type": "code",
   "execution_count": 379,
   "metadata": {},
   "outputs": [
    {
     "data": {
      "image/png": "[encoded data removed]",
      "text/plain": [
       "<Figure size 1000x2000 with 11 Axes>"
      ]
     },
     "metadata": {},
     "output_type": "display_data"
    }
   ],
   "source": [
    "plt.figure(figsize=(10,20))\n",
    "# plotting\n",
    "for i in range(0, len(num)):\n",
    "    plt.subplot(5, 5, i+1)\n",
    "    sns.boxplot(y=df[num[i]],color='teal', orient='v')\n",
    "    plt.tight_layout()"
   ]
  },
  {
   "attachments": {},
   "cell_type": "markdown",
   "metadata": {},
   "source": [
    "# Train Test Split"
   ]
  },
  {
   "cell_type": "code",
   "execution_count": 380,
   "metadata": {},
   "outputs": [],
   "source": [
    "from sklearn.model_selection import train_test_split\n",
    "\n",
    "X_train, X_test, y_train, y_test = train_test_split(df.drop(columns=['status']), df.status, test_size=0.3, random_state=42, stratify=df.status)\n",
    "\n"
   ]
  },
  {
   "attachments": {},
   "cell_type": "markdown",
   "metadata": {},
   "source": [
    "# Feature Outlier Analysis"
   ]
  },
  {
   "cell_type": "code",
   "execution_count": 381,
   "metadata": {},
   "outputs": [
    {
     "name": "stderr",
     "output_type": "stream",
     "text": [
      "[Parallel(n_jobs=1)]: Using backend SequentialBackend with 1 concurrent workers.\n",
      "[Parallel(n_jobs=1)]: Done   1 out of   1 | elapsed:    0.0s finished\n"
     ]
    }
   ],
   "source": [
    "import pandas as pd\n",
    "import numpy as np\n",
    "from sklearn.ensemble import IsolationForest\n",
    "from sklearn.neighbors import LocalOutlierFactor\n",
    "from sklearn.impute import SimpleImputer\n",
    "\n",
    "# Menggunakan Isolation Forest\n",
    "isolation_forest = IsolationForest(n_estimators=100, random_state=42, verbose=1)\n",
    "isolation_forest.fit(X_train)\n",
    "\n",
    "# Menggunakan Local Outlier Factor\n",
    "lof = LocalOutlierFactor()\n",
    "lof_pred = lof.fit_predict(X_train)\n",
    "\n",
    "# Menggabungkan prediksi outlier dari Isolation Forest dan LOF\n",
    "ensemble_pred = np.where((isolation_forest.predict(X_train) == -1) & (lof_pred == -1), -1, 1)\n",
    "\n",
    "# Mengganti nilai outlier dengan NaN\n",
    "X_train.loc[ensemble_pred == -1] = np.nan\n",
    "\n",
    "# Menangani nilai-nilai ekstrim yang bukan outlier\n",
    "percentile_2 = np.percentile(X_train, 1)\n",
    "percentile_98 = np.percentile(X_train, 99)\n",
    "X_train[(X_train > percentile_98) | (X_train < percentile_2)] = np.nan\n",
    "\n",
    "# # Mengisi nilai-nilai NaN dengan nilai median\n",
    "# X_train = X_train.fillna(X_train.median())\n",
    "\n",
    "# Membuat imputer untuk imputasi menggunakan SimpleImputer\n",
    "imputer = SimpleImputer(strategy='median')\n",
    "\n",
    "# Melakukan imputasi pada nilai yang hilang menggunakan Random Forest Classification\n",
    "X_train_imputed = imputer.fit_transform(X_train)\n",
    "\n",
    "# Menampilkan data yang telah diimputasi\n",
    "X_train = pd.DataFrame(X_train_imputed, columns=X_train.columns)"
   ]
  },
  {
   "attachments": {},
   "cell_type": "markdown",
   "metadata": {},
   "source": [
    "# Feature Importance"
   ]
  },
  {
   "cell_type": "code",
   "execution_count": 382,
   "metadata": {},
   "outputs": [
    {
     "name": "stderr",
     "output_type": "stream",
     "text": [
      "[Parallel(n_jobs=-1)]: Using backend ThreadingBackend with 12 concurrent workers.\n",
      "[Parallel(n_jobs=-1)]: Done  26 tasks      | elapsed:    0.0s\n",
      "[Parallel(n_jobs=-1)]: Done 100 out of 100 | elapsed:    0.1s finished\n"
     ]
    }
   ],
   "source": [
    "from sklearn.ensemble import RandomForestClassifier\n",
    "# Membuat model random forest\n",
    "rf = RandomForestClassifier(random_state=42,verbose=1,n_jobs=-1,n_estimators=100)\n",
    "rf.fit(X_train, y_train)\n",
    "\n",
    "# Mendapatkan feature importance pada random forest\n",
    "importance = rf.feature_importances_"
   ]
  },
  {
   "cell_type": "code",
   "execution_count": 383,
   "metadata": {},
   "outputs": [
    {
     "data": {
      "text/html": [
       "<div>\n",
       "<style scoped>\n",
       "    .dataframe tbody tr th:only-of-type {\n",
       "        vertical-align: middle;\n",
       "    }\n",
       "\n",
       "    .dataframe tbody tr th {\n",
       "        vertical-align: top;\n",
       "    }\n",
       "\n",
       "    .dataframe thead th {\n",
       "        text-align: right;\n",
       "    }\n",
       "</style>\n",
       "<table border=\"1\" class=\"dataframe\">\n",
       "  <thead>\n",
       "    <tr style=\"text-align: right;\">\n",
       "      <th></th>\n",
       "      <th>feature</th>\n",
       "      <th>importance</th>\n",
       "    </tr>\n",
       "  </thead>\n",
       "  <tbody>\n",
       "    <tr>\n",
       "      <th>7</th>\n",
       "      <td>R3</td>\n",
       "      <td>0.000264</td>\n",
       "    </tr>\n",
       "    <tr>\n",
       "      <th>9</th>\n",
       "      <td>R5</td>\n",
       "      <td>0.001052</td>\n",
       "    </tr>\n",
       "    <tr>\n",
       "      <th>8</th>\n",
       "      <td>R4</td>\n",
       "      <td>0.001108</td>\n",
       "    </tr>\n",
       "    <tr>\n",
       "      <th>5</th>\n",
       "      <td>R1</td>\n",
       "      <td>0.001262</td>\n",
       "    </tr>\n",
       "    <tr>\n",
       "      <th>6</th>\n",
       "      <td>R2</td>\n",
       "      <td>0.001776</td>\n",
       "    </tr>\n",
       "    <tr>\n",
       "      <th>13</th>\n",
       "      <td>L4</td>\n",
       "      <td>0.002555</td>\n",
       "    </tr>\n",
       "    <tr>\n",
       "      <th>14</th>\n",
       "      <td>L5</td>\n",
       "      <td>0.002985</td>\n",
       "    </tr>\n",
       "    <tr>\n",
       "      <th>11</th>\n",
       "      <td>L2</td>\n",
       "      <td>0.003208</td>\n",
       "    </tr>\n",
       "    <tr>\n",
       "      <th>2</th>\n",
       "      <td>hero_3</td>\n",
       "      <td>0.003374</td>\n",
       "    </tr>\n",
       "    <tr>\n",
       "      <th>10</th>\n",
       "      <td>L1</td>\n",
       "      <td>0.004290</td>\n",
       "    </tr>\n",
       "    <tr>\n",
       "      <th>57</th>\n",
       "      <td>IH5_4</td>\n",
       "      <td>0.004449</td>\n",
       "    </tr>\n",
       "    <tr>\n",
       "      <th>3</th>\n",
       "      <td>hero_4</td>\n",
       "      <td>0.004509</td>\n",
       "    </tr>\n",
       "    <tr>\n",
       "      <th>54</th>\n",
       "      <td>IH5_1</td>\n",
       "      <td>0.004691</td>\n",
       "    </tr>\n",
       "    <tr>\n",
       "      <th>0</th>\n",
       "      <td>hero_1</td>\n",
       "      <td>0.005375</td>\n",
       "    </tr>\n",
       "    <tr>\n",
       "      <th>29</th>\n",
       "      <td>IH1_4</td>\n",
       "      <td>0.005603</td>\n",
       "    </tr>\n",
       "    <tr>\n",
       "      <th>27</th>\n",
       "      <td>IH1_2</td>\n",
       "      <td>0.005627</td>\n",
       "    </tr>\n",
       "    <tr>\n",
       "      <th>56</th>\n",
       "      <td>IH5_3</td>\n",
       "      <td>0.005924</td>\n",
       "    </tr>\n",
       "    <tr>\n",
       "      <th>59</th>\n",
       "      <td>IH5_6</td>\n",
       "      <td>0.005983</td>\n",
       "    </tr>\n",
       "    <tr>\n",
       "      <th>33</th>\n",
       "      <td>IH2_1</td>\n",
       "      <td>0.006589</td>\n",
       "    </tr>\n",
       "    <tr>\n",
       "      <th>58</th>\n",
       "      <td>IH5_5</td>\n",
       "      <td>0.006744</td>\n",
       "    </tr>\n",
       "    <tr>\n",
       "      <th>36</th>\n",
       "      <td>IH2_4</td>\n",
       "      <td>0.007033</td>\n",
       "    </tr>\n",
       "    <tr>\n",
       "      <th>12</th>\n",
       "      <td>L3</td>\n",
       "      <td>0.007154</td>\n",
       "    </tr>\n",
       "    <tr>\n",
       "      <th>46</th>\n",
       "      <td>IH3_7</td>\n",
       "      <td>0.007312</td>\n",
       "    </tr>\n",
       "    <tr>\n",
       "      <th>41</th>\n",
       "      <td>IH3_2</td>\n",
       "      <td>0.007315</td>\n",
       "    </tr>\n",
       "    <tr>\n",
       "      <th>40</th>\n",
       "      <td>IH3_1</td>\n",
       "      <td>0.007573</td>\n",
       "    </tr>\n",
       "    <tr>\n",
       "      <th>26</th>\n",
       "      <td>IH1_1</td>\n",
       "      <td>0.007621</td>\n",
       "    </tr>\n",
       "    <tr>\n",
       "      <th>53</th>\n",
       "      <td>IH4_7</td>\n",
       "      <td>0.007701</td>\n",
       "    </tr>\n",
       "    <tr>\n",
       "      <th>24</th>\n",
       "      <td>WARDS_KUNING</td>\n",
       "      <td>0.007794</td>\n",
       "    </tr>\n",
       "    <tr>\n",
       "      <th>44</th>\n",
       "      <td>IH3_5</td>\n",
       "      <td>0.008004</td>\n",
       "    </tr>\n",
       "    <tr>\n",
       "      <th>35</th>\n",
       "      <td>IH2_3</td>\n",
       "      <td>0.008075</td>\n",
       "    </tr>\n",
       "    <tr>\n",
       "      <th>4</th>\n",
       "      <td>hero_5</td>\n",
       "      <td>0.008127</td>\n",
       "    </tr>\n",
       "    <tr>\n",
       "      <th>49</th>\n",
       "      <td>IH4_3</td>\n",
       "      <td>0.008216</td>\n",
       "    </tr>\n",
       "    <tr>\n",
       "      <th>30</th>\n",
       "      <td>IH1_5</td>\n",
       "      <td>0.008328</td>\n",
       "    </tr>\n",
       "    <tr>\n",
       "      <th>28</th>\n",
       "      <td>IH1_3</td>\n",
       "      <td>0.008363</td>\n",
       "    </tr>\n",
       "    <tr>\n",
       "      <th>42</th>\n",
       "      <td>IH3_3</td>\n",
       "      <td>0.008919</td>\n",
       "    </tr>\n",
       "    <tr>\n",
       "      <th>32</th>\n",
       "      <td>IH1_7</td>\n",
       "      <td>0.009098</td>\n",
       "    </tr>\n",
       "    <tr>\n",
       "      <th>25</th>\n",
       "      <td>WARDS_BIRU</td>\n",
       "      <td>0.009299</td>\n",
       "    </tr>\n",
       "    <tr>\n",
       "      <th>43</th>\n",
       "      <td>IH3_4</td>\n",
       "      <td>0.010459</td>\n",
       "    </tr>\n",
       "    <tr>\n",
       "      <th>31</th>\n",
       "      <td>IH1_6</td>\n",
       "      <td>0.010673</td>\n",
       "    </tr>\n",
       "    <tr>\n",
       "      <th>55</th>\n",
       "      <td>IH5_2</td>\n",
       "      <td>0.010715</td>\n",
       "    </tr>\n",
       "    <tr>\n",
       "      <th>47</th>\n",
       "      <td>IH4_1</td>\n",
       "      <td>0.010850</td>\n",
       "    </tr>\n",
       "    <tr>\n",
       "      <th>60</th>\n",
       "      <td>IH5_7</td>\n",
       "      <td>0.011101</td>\n",
       "    </tr>\n",
       "    <tr>\n",
       "      <th>61</th>\n",
       "      <td>Time</td>\n",
       "      <td>0.011154</td>\n",
       "    </tr>\n",
       "    <tr>\n",
       "      <th>1</th>\n",
       "      <td>hero_2</td>\n",
       "      <td>0.011217</td>\n",
       "    </tr>\n",
       "    <tr>\n",
       "      <th>39</th>\n",
       "      <td>IH2_7</td>\n",
       "      <td>0.011765</td>\n",
       "    </tr>\n",
       "    <tr>\n",
       "      <th>45</th>\n",
       "      <td>IH3_6</td>\n",
       "      <td>0.012090</td>\n",
       "    </tr>\n",
       "    <tr>\n",
       "      <th>34</th>\n",
       "      <td>IH2_2</td>\n",
       "      <td>0.013376</td>\n",
       "    </tr>\n",
       "    <tr>\n",
       "      <th>52</th>\n",
       "      <td>IH4_6</td>\n",
       "      <td>0.013381</td>\n",
       "    </tr>\n",
       "    <tr>\n",
       "      <th>21</th>\n",
       "      <td>DMG</td>\n",
       "      <td>0.014181</td>\n",
       "    </tr>\n",
       "    <tr>\n",
       "      <th>51</th>\n",
       "      <td>IH4_5</td>\n",
       "      <td>0.014343</td>\n",
       "    </tr>\n",
       "  </tbody>\n",
       "</table>\n",
       "</div>"
      ],
      "text/plain": [
       "         feature  importance\n",
       "7             R3    0.000264\n",
       "9             R5    0.001052\n",
       "8             R4    0.001108\n",
       "5             R1    0.001262\n",
       "6             R2    0.001776\n",
       "13            L4    0.002555\n",
       "14            L5    0.002985\n",
       "11            L2    0.003208\n",
       "2         hero_3    0.003374\n",
       "10            L1    0.004290\n",
       "57         IH5_4    0.004449\n",
       "3         hero_4    0.004509\n",
       "54         IH5_1    0.004691\n",
       "0         hero_1    0.005375\n",
       "29         IH1_4    0.005603\n",
       "27         IH1_2    0.005627\n",
       "56         IH5_3    0.005924\n",
       "59         IH5_6    0.005983\n",
       "33         IH2_1    0.006589\n",
       "58         IH5_5    0.006744\n",
       "36         IH2_4    0.007033\n",
       "12            L3    0.007154\n",
       "46         IH3_7    0.007312\n",
       "41         IH3_2    0.007315\n",
       "40         IH3_1    0.007573\n",
       "26         IH1_1    0.007621\n",
       "53         IH4_7    0.007701\n",
       "24  WARDS_KUNING    0.007794\n",
       "44         IH3_5    0.008004\n",
       "35         IH2_3    0.008075\n",
       "4         hero_5    0.008127\n",
       "49         IH4_3    0.008216\n",
       "30         IH1_5    0.008328\n",
       "28         IH1_3    0.008363\n",
       "42         IH3_3    0.008919\n",
       "32         IH1_7    0.009098\n",
       "25    WARDS_BIRU    0.009299\n",
       "43         IH3_4    0.010459\n",
       "31         IH1_6    0.010673\n",
       "55         IH5_2    0.010715\n",
       "47         IH4_1    0.010850\n",
       "60         IH5_7    0.011101\n",
       "61          Time    0.011154\n",
       "1         hero_2    0.011217\n",
       "39         IH2_7    0.011765\n",
       "45         IH3_6    0.012090\n",
       "34         IH2_2    0.013376\n",
       "52         IH4_6    0.013381\n",
       "21           DMG    0.014181\n",
       "51         IH4_5    0.014343"
      ]
     },
     "execution_count": 383,
     "metadata": {},
     "output_type": "execute_result"
    }
   ],
   "source": [
    "# Mendapatkan feature importance pada random forest dan menambahkan nama kolom\n",
    "# pd.set_option('display.max_rows',None)\n",
    "importance = pd.DataFrame({'feature': X_train.columns, 'importance': rf.feature_importances_})\n",
    "importance.sort_values('importance').head(50)"
   ]
  },
  {
   "attachments": {},
   "cell_type": "markdown",
   "metadata": {},
   "source": [
    "# Balancing Data"
   ]
  },
  {
   "cell_type": "code",
   "execution_count": 384,
   "metadata": {},
   "outputs": [],
   "source": [
    "# Inisialisasi SMOTE\n",
    "from imblearn.over_sampling import SMOTEN\n",
    "\n",
    "smote = SMOTEN(random_state=42)\n",
    "# Resampling pada train set\n",
    "X_train, y_train = smote.fit_resample(X_train, y_train)"
   ]
  },
  {
   "attachments": {},
   "cell_type": "markdown",
   "metadata": {},
   "source": [
    "# Modelling"
   ]
  },
  {
   "attachments": {},
   "cell_type": "markdown",
   "metadata": {},
   "source": [
    "### SVC"
   ]
  },
  {
   "attachments": {},
   "cell_type": "markdown",
   "metadata": {},
   "source": [
    "##### Tuning"
   ]
  },
  {
   "cell_type": "code",
   "execution_count": 385,
   "metadata": {},
   "outputs": [],
   "source": [
    "# # train the model on train set\n",
    "# from sklearn.svm import SVC\n",
    "# from sklearn.model_selection import RandomizedSearchCV\n",
    "# from scipy.stats import uniform\n",
    "\n",
    "# # defining parameter range\n",
    "# param_grid = {'C': uniform(loc=0.1, scale=1000),\n",
    "#             'gamma': uniform(loc=0.0001, scale=1),\n",
    "#             'kernel': ['linear', 'poly', 'rbf', 'sigmoid'],\n",
    "#             'degree': [2, 3, 4, 5],\n",
    "#             'coef0': uniform(loc=0.0, scale=1.0)}\n",
    "\n",
    "# random_search = RandomizedSearchCV(SVC(), param_distributions=param_grid, refit=True, verbose=3)\n",
    "# random_search.fit(X_train, y_train)\n"
   ]
  },
  {
   "cell_type": "code",
   "execution_count": 386,
   "metadata": {},
   "outputs": [],
   "source": [
    "# # Cetak hyperparameter terbaik dan akurasi model\n",
    "# print(\"Hyperparameter terbaik: \", random_search.best_params_)\n",
    "# print(\"Akurasi terbaik: \", random_search.best_score_)"
   ]
  },
  {
   "attachments": {},
   "cell_type": "markdown",
   "metadata": {},
   "source": [
    "##### Fitting"
   ]
  },
  {
   "cell_type": "code",
   "execution_count": 387,
   "metadata": {},
   "outputs": [
    {
     "data": {
      "text/html": [
       "<style>#sk-container-id-26 {color: black;background-color: white;}#sk-container-id-26 pre{padding: 0;}#sk-container-id-26 div.sk-toggleable {background-color: white;}#sk-container-id-26 label.sk-toggleable__label {cursor: pointer;display: block;width: 100%;margin-bottom: 0;padding: 0.3em;box-sizing: border-box;text-align: center;}#sk-container-id-26 label.sk-toggleable__label-arrow:before {content: \"▸\";float: left;margin-right: 0.25em;color: #696969;}#sk-container-id-26 label.sk-toggleable__label-arrow:hover:before {color: black;}#sk-container-id-26 div.sk-estimator:hover label.sk-toggleable__label-arrow:before {color: black;}#sk-container-id-26 div.sk-toggleable__content {max-height: 0;max-width: 0;overflow: hidden;text-align: left;background-color: #f0f8ff;}#sk-container-id-26 div.sk-toggleable__content pre {margin: 0.2em;color: black;border-radius: 0.25em;background-color: #f0f8ff;}#sk-container-id-26 input.sk-toggleable__control:checked~div.sk-toggleable__content {max-height: 200px;max-width: 100%;overflow: auto;}#sk-container-id-26 input.sk-toggleable__control:checked~label.sk-toggleable__label-arrow:before {content: \"▾\";}#sk-container-id-26 div.sk-estimator input.sk-toggleable__control:checked~label.sk-toggleable__label {background-color: #d4ebff;}#sk-container-id-26 div.sk-label input.sk-toggleable__control:checked~label.sk-toggleable__label {background-color: #d4ebff;}#sk-container-id-26 input.sk-hidden--visually {border: 0;clip: rect(1px 1px 1px 1px);clip: rect(1px, 1px, 1px, 1px);height: 1px;margin: -1px;overflow: hidden;padding: 0;position: absolute;width: 1px;}#sk-container-id-26 div.sk-estimator {font-family: monospace;background-color: #f0f8ff;border: 1px dotted black;border-radius: 0.25em;box-sizing: border-box;margin-bottom: 0.5em;}#sk-container-id-26 div.sk-estimator:hover {background-color: #d4ebff;}#sk-container-id-26 div.sk-parallel-item::after {content: \"\";width: 100%;border-bottom: 1px solid gray;flex-grow: 1;}#sk-container-id-26 div.sk-label:hover label.sk-toggleable__label {background-color: #d4ebff;}#sk-container-id-26 div.sk-serial::before {content: \"\";position: absolute;border-left: 1px solid gray;box-sizing: border-box;top: 0;bottom: 0;left: 50%;z-index: 0;}#sk-container-id-26 div.sk-serial {display: flex;flex-direction: column;align-items: center;background-color: white;padding-right: 0.2em;padding-left: 0.2em;position: relative;}#sk-container-id-26 div.sk-item {position: relative;z-index: 1;}#sk-container-id-26 div.sk-parallel {display: flex;align-items: stretch;justify-content: center;background-color: white;position: relative;}#sk-container-id-26 div.sk-item::before, #sk-container-id-26 div.sk-parallel-item::before {content: \"\";position: absolute;border-left: 1px solid gray;box-sizing: border-box;top: 0;bottom: 0;left: 50%;z-index: -1;}#sk-container-id-26 div.sk-parallel-item {display: flex;flex-direction: column;z-index: 1;position: relative;background-color: white;}#sk-container-id-26 div.sk-parallel-item:first-child::after {align-self: flex-end;width: 50%;}#sk-container-id-26 div.sk-parallel-item:last-child::after {align-self: flex-start;width: 50%;}#sk-container-id-26 div.sk-parallel-item:only-child::after {width: 0;}#sk-container-id-26 div.sk-dashed-wrapped {border: 1px dashed gray;margin: 0 0.4em 0.5em 0.4em;box-sizing: border-box;padding-bottom: 0.4em;background-color: white;}#sk-container-id-26 div.sk-label label {font-family: monospace;font-weight: bold;display: inline-block;line-height: 1.2em;}#sk-container-id-26 div.sk-label-container {text-align: center;}#sk-container-id-26 div.sk-container {/* jupyter's `normalize.less` sets `[hidden] { display: none; }` but bootstrap.min.css set `[hidden] { display: none !important; }` so we also need the `!important` here to be able to override the default hidden behavior on the sphinx rendered scikit-learn.org. See: https://github.com/scikit-learn/scikit-learn/issues/21755 */display: inline-block !important;position: relative;}#sk-container-id-26 div.sk-text-repr-fallback {display: none;}</style><div id=\"sk-container-id-26\" class=\"sk-top-container\"><div class=\"sk-text-repr-fallback\"><pre>SVC(C=875.5435906835379, coef0=0.7212236263601225, degree=2,\n",
       "    gamma=0.2521164544469635)</pre><b>In a Jupyter environment, please rerun this cell to show the HTML representation or trust the notebook. <br />On GitHub, the HTML representation is unable to render, please try loading this page with nbviewer.org.</b></div><div class=\"sk-container\" hidden><div class=\"sk-item\"><div class=\"sk-estimator sk-toggleable\"><input class=\"sk-toggleable__control sk-hidden--visually\" id=\"sk-estimator-id-38\" type=\"checkbox\" checked><label for=\"sk-estimator-id-38\" class=\"sk-toggleable__label sk-toggleable__label-arrow\">SVC</label><div class=\"sk-toggleable__content\"><pre>SVC(C=875.5435906835379, coef0=0.7212236263601225, degree=2,\n",
       "    gamma=0.2521164544469635)</pre></div></div></div></div></div>"
      ],
      "text/plain": [
       "SVC(C=875.5435906835379, coef0=0.7212236263601225, degree=2,\n",
       "    gamma=0.2521164544469635)"
      ]
     },
     "execution_count": 387,
     "metadata": {},
     "output_type": "execute_result"
    }
   ],
   "source": [
    "from sklearn.svm import SVC\n",
    "\n",
    "# Defining the SVC model with the specified parameters\n",
    "svc_model = SVC(C=875.5435906835379, coef0=0.7212236263601225, degree=2, gamma=0.2521164544469635, kernel='rbf')\n",
    "# Fitting the model to the training data\n",
    "svc_model.fit(X_train, y_train)\n"
   ]
  },
  {
   "cell_type": "code",
   "execution_count": 388,
   "metadata": {},
   "outputs": [],
   "source": [
    "y_pred_svc = svc_model.predict(X_test)"
   ]
  },
  {
   "attachments": {},
   "cell_type": "markdown",
   "metadata": {},
   "source": [
    "##### Evaluation"
   ]
  },
  {
   "cell_type": "code",
   "execution_count": 389,
   "metadata": {},
   "outputs": [
    {
     "name": "stdout",
     "output_type": "stream",
     "text": [
      "              precision    recall  f1-score   support\n",
      "\n",
      "           0       1.00      0.84      0.91       411\n",
      "           1       0.87      1.00      0.93       459\n",
      "\n",
      "    accuracy                           0.92       870\n",
      "   macro avg       0.94      0.92      0.92       870\n",
      "weighted avg       0.93      0.92      0.92       870\n",
      "\n"
     ]
    }
   ],
   "source": [
    "print(classification_report(y_test, y_pred_svc))"
   ]
  },
  {
   "cell_type": "code",
   "execution_count": 390,
   "metadata": {},
   "outputs": [
    {
     "name": "stdout",
     "output_type": "stream",
     "text": [
      "F1 score micro: 0.9229885057471264\n",
      "F1 score macro: 0.9216189867885838\n"
     ]
    }
   ],
   "source": [
    "# Menghitung F1 score micro\n",
    "f1_micro = f1_score(y_test, y_pred_svc, average='micro')\n",
    "\n",
    "print('F1 score micro:', f1_micro)\n",
    "\n",
    "# Menghitung F1 score micro\n",
    "f1_micro = f1_score(y_test, y_pred_svc, average='macro')\n",
    "\n",
    "print('F1 score macro:', f1_micro)"
   ]
  },
  {
   "cell_type": "code",
   "execution_count": 391,
   "metadata": {},
   "outputs": [
    {
     "data": {
      "image/png": "[encoded data removed]",
      "text/plain": [
       "<Figure size 600x400 with 2 Axes>"
      ]
     },
     "metadata": {},
     "output_type": "display_data"
    }
   ],
   "source": [
    "cm = confusion_matrix(y_test, y_pred_svc)\n",
    "\n",
    "# Membuat heatmap dari confusion matrix\n",
    "sns.set()\n",
    "plt.figure(figsize=(6,4))\n",
    "sns.heatmap(cm, annot=True, cmap='Blues', fmt='g')\n",
    "plt.title('Confusion Matrix')\n",
    "plt.xlabel('Predicted Labels')\n",
    "plt.ylabel('True Labels')\n",
    "plt.show()"
   ]
  },
  {
   "attachments": {},
   "cell_type": "markdown",
   "metadata": {},
   "source": [
    "### RFC"
   ]
  },
  {
   "attachments": {},
   "cell_type": "markdown",
   "metadata": {},
   "source": [
    "##### Tuning"
   ]
  },
  {
   "cell_type": "code",
   "execution_count": 392,
   "metadata": {},
   "outputs": [],
   "source": [
    "# from sklearn.ensemble import RandomForestClassifier\n",
    "# from sklearn.model_selection import RandomizedSearchCV\n",
    "# # Tentukan hyperparameter yang akan diuji\n",
    "# param_dist = {\n",
    "#     'n_estimators': [int(x) for x in np.linspace(start = 200, stop = 3000, num =10)],\n",
    "#     'max_features': ['auto', 'sqrt'],\n",
    "#     'max_depth': [int(x) for x in np.linspace(10, 200, num = 10)],\n",
    "#     'min_samples_split': [int(x) for x in np.linspace(2, 20)],\n",
    "#     'min_samples_leaf': [int(x) for x in np.linspace(1, 20)]\n",
    "# }"
   ]
  },
  {
   "cell_type": "code",
   "execution_count": 393,
   "metadata": {},
   "outputs": [],
   "source": [
    "# # Buat objek RandomForestClassifier\n",
    "# rfc = RandomForestClassifier(random_state=42)\n",
    "\n",
    "# # Buat objek RandomizedSearchCV\n",
    "# random_search = RandomizedSearchCV(estimator=rfc, param_distributions=param_dist, n_iter=100, cv=5, verbose=2, random_state=42, n_jobs=-1)\n",
    "\n",
    "# # Lakukan training model dengan GridSearchCnV\n",
    "# random_search.fit(X_train, y_train)"
   ]
  },
  {
   "cell_type": "code",
   "execution_count": 394,
   "metadata": {},
   "outputs": [],
   "source": [
    "# # Cetak hyperparameter terbaik dan akurasi model\n",
    "# print(\"Hyperparameter terbaik: \", random_search.best_params_)\n",
    "# print(\"Akurasi terbaik: \", random_search.best_score_)"
   ]
  },
  {
   "attachments": {},
   "cell_type": "markdown",
   "metadata": {},
   "source": [
    "##### Fitting"
   ]
  },
  {
   "cell_type": "code",
   "execution_count": 395,
   "metadata": {},
   "outputs": [
    {
     "data": {
      "text/html": [
       "<style>#sk-container-id-27 {color: black;background-color: white;}#sk-container-id-27 pre{padding: 0;}#sk-container-id-27 div.sk-toggleable {background-color: white;}#sk-container-id-27 label.sk-toggleable__label {cursor: pointer;display: block;width: 100%;margin-bottom: 0;padding: 0.3em;box-sizing: border-box;text-align: center;}#sk-container-id-27 label.sk-toggleable__label-arrow:before {content: \"▸\";float: left;margin-right: 0.25em;color: #696969;}#sk-container-id-27 label.sk-toggleable__label-arrow:hover:before {color: black;}#sk-container-id-27 div.sk-estimator:hover label.sk-toggleable__label-arrow:before {color: black;}#sk-container-id-27 div.sk-toggleable__content {max-height: 0;max-width: 0;overflow: hidden;text-align: left;background-color: #f0f8ff;}#sk-container-id-27 div.sk-toggleable__content pre {margin: 0.2em;color: black;border-radius: 0.25em;background-color: #f0f8ff;}#sk-container-id-27 input.sk-toggleable__control:checked~div.sk-toggleable__content {max-height: 200px;max-width: 100%;overflow: auto;}#sk-container-id-27 input.sk-toggleable__control:checked~label.sk-toggleable__label-arrow:before {content: \"▾\";}#sk-container-id-27 div.sk-estimator input.sk-toggleable__control:checked~label.sk-toggleable__label {background-color: #d4ebff;}#sk-container-id-27 div.sk-label input.sk-toggleable__control:checked~label.sk-toggleable__label {background-color: #d4ebff;}#sk-container-id-27 input.sk-hidden--visually {border: 0;clip: rect(1px 1px 1px 1px);clip: rect(1px, 1px, 1px, 1px);height: 1px;margin: -1px;overflow: hidden;padding: 0;position: absolute;width: 1px;}#sk-container-id-27 div.sk-estimator {font-family: monospace;background-color: #f0f8ff;border: 1px dotted black;border-radius: 0.25em;box-sizing: border-box;margin-bottom: 0.5em;}#sk-container-id-27 div.sk-estimator:hover {background-color: #d4ebff;}#sk-container-id-27 div.sk-parallel-item::after {content: \"\";width: 100%;border-bottom: 1px solid gray;flex-grow: 1;}#sk-container-id-27 div.sk-label:hover label.sk-toggleable__label {background-color: #d4ebff;}#sk-container-id-27 div.sk-serial::before {content: \"\";position: absolute;border-left: 1px solid gray;box-sizing: border-box;top: 0;bottom: 0;left: 50%;z-index: 0;}#sk-container-id-27 div.sk-serial {display: flex;flex-direction: column;align-items: center;background-color: white;padding-right: 0.2em;padding-left: 0.2em;position: relative;}#sk-container-id-27 div.sk-item {position: relative;z-index: 1;}#sk-container-id-27 div.sk-parallel {display: flex;align-items: stretch;justify-content: center;background-color: white;position: relative;}#sk-container-id-27 div.sk-item::before, #sk-container-id-27 div.sk-parallel-item::before {content: \"\";position: absolute;border-left: 1px solid gray;box-sizing: border-box;top: 0;bottom: 0;left: 50%;z-index: -1;}#sk-container-id-27 div.sk-parallel-item {display: flex;flex-direction: column;z-index: 1;position: relative;background-color: white;}#sk-container-id-27 div.sk-parallel-item:first-child::after {align-self: flex-end;width: 50%;}#sk-container-id-27 div.sk-parallel-item:last-child::after {align-self: flex-start;width: 50%;}#sk-container-id-27 div.sk-parallel-item:only-child::after {width: 0;}#sk-container-id-27 div.sk-dashed-wrapped {border: 1px dashed gray;margin: 0 0.4em 0.5em 0.4em;box-sizing: border-box;padding-bottom: 0.4em;background-color: white;}#sk-container-id-27 div.sk-label label {font-family: monospace;font-weight: bold;display: inline-block;line-height: 1.2em;}#sk-container-id-27 div.sk-label-container {text-align: center;}#sk-container-id-27 div.sk-container {/* jupyter's `normalize.less` sets `[hidden] { display: none; }` but bootstrap.min.css set `[hidden] { display: none !important; }` so we also need the `!important` here to be able to override the default hidden behavior on the sphinx rendered scikit-learn.org. See: https://github.com/scikit-learn/scikit-learn/issues/21755 */display: inline-block !important;position: relative;}#sk-container-id-27 div.sk-text-repr-fallback {display: none;}</style><div id=\"sk-container-id-27\" class=\"sk-top-container\"><div class=\"sk-text-repr-fallback\"><pre>RandomForestClassifier(max_depth=200, min_samples_leaf=5, min_samples_split=5,\n",
       "                       n_estimators=822)</pre><b>In a Jupyter environment, please rerun this cell to show the HTML representation or trust the notebook. <br />On GitHub, the HTML representation is unable to render, please try loading this page with nbviewer.org.</b></div><div class=\"sk-container\" hidden><div class=\"sk-item\"><div class=\"sk-estimator sk-toggleable\"><input class=\"sk-toggleable__control sk-hidden--visually\" id=\"sk-estimator-id-39\" type=\"checkbox\" checked><label for=\"sk-estimator-id-39\" class=\"sk-toggleable__label sk-toggleable__label-arrow\">RandomForestClassifier</label><div class=\"sk-toggleable__content\"><pre>RandomForestClassifier(max_depth=200, min_samples_leaf=5, min_samples_split=5,\n",
       "                       n_estimators=822)</pre></div></div></div></div></div>"
      ],
      "text/plain": [
       "RandomForestClassifier(max_depth=200, min_samples_leaf=5, min_samples_split=5,\n",
       "                       n_estimators=822)"
      ]
     },
     "execution_count": 395,
     "metadata": {},
     "output_type": "execute_result"
    }
   ],
   "source": [
    "from sklearn.ensemble import RandomForestClassifier\n",
    "\n",
    "# Defining the RFC model with the specified parameters\n",
    "rfc_model = RandomForestClassifier(n_estimators=822, min_samples_split=5, min_samples_leaf=5, max_features='sqrt', max_depth=200)\n",
    "\n",
    "# Fitting the model to the training data\n",
    "rfc_model.fit(X_train, y_train)\n"
   ]
  },
  {
   "cell_type": "code",
   "execution_count": 396,
   "metadata": {},
   "outputs": [],
   "source": [
    "y_pred_rfc = rfc_model.predict(X_test)"
   ]
  },
  {
   "attachments": {},
   "cell_type": "markdown",
   "metadata": {},
   "source": [
    "##### Evaluation"
   ]
  },
  {
   "cell_type": "code",
   "execution_count": 397,
   "metadata": {},
   "outputs": [
    {
     "name": "stdout",
     "output_type": "stream",
     "text": [
      "              precision    recall  f1-score   support\n",
      "\n",
      "           0       0.94      0.97      0.95       411\n",
      "           1       0.97      0.94      0.96       459\n",
      "\n",
      "    accuracy                           0.96       870\n",
      "   macro avg       0.95      0.96      0.96       870\n",
      "weighted avg       0.96      0.96      0.96       870\n",
      "\n"
     ]
    }
   ],
   "source": [
    "print(classification_report(y_test, y_pred_rfc))"
   ]
  },
  {
   "cell_type": "code",
   "execution_count": 398,
   "metadata": {},
   "outputs": [
    {
     "name": "stdout",
     "output_type": "stream",
     "text": [
      "F1 score micro: 0.9551724137931035\n",
      "F1 score macro: 0.9550997452608595\n"
     ]
    }
   ],
   "source": [
    "# Menghitung F1 score micro\n",
    "f1_micro = f1_score(y_test, y_pred_rfc, average='micro')\n",
    "\n",
    "print('F1 score micro:', f1_micro)\n",
    "\n",
    "# Menghitung F1 score micro\n",
    "f1_micro = f1_score(y_test, y_pred_rfc, average='macro')\n",
    "\n",
    "print('F1 score macro:', f1_micro)"
   ]
  },
  {
   "cell_type": "code",
   "execution_count": 399,
   "metadata": {},
   "outputs": [
    {
     "data": {
      "image/png": "[encoded data removed]",
      "text/plain": [
       "<Figure size 600x400 with 2 Axes>"
      ]
     },
     "metadata": {},
     "output_type": "display_data"
    }
   ],
   "source": [
    "cm = confusion_matrix(y_test, y_pred_rfc)\n",
    "\n",
    "# Membuat heatmap dari confusion matrix\n",
    "sns.set()\n",
    "plt.figure(figsize=(6,4))\n",
    "sns.heatmap(cm, annot=True, cmap='Blues', fmt='g')\n",
    "plt.title('Confusion Matrix')\n",
    "plt.xlabel('Predicted Labels')\n",
    "plt.ylabel('True Labels')\n",
    "plt.show()"
   ]
  },
  {
   "attachments": {},
   "cell_type": "markdown",
   "metadata": {},
   "source": [
    "### GausianNB (Naive Bayes)"
   ]
  },
  {
   "cell_type": "code",
   "execution_count": 400,
   "metadata": {},
   "outputs": [],
   "source": [
    "# from sklearn.naive_bayes import GaussianNB\n",
    "# from sklearn.model_selection import RandomizedSearchCV\n",
    "# from scipy.stats import uniform\n",
    "\n",
    "# param_grid = {'var_smoothing': uniform(loc=1e-9, scale=1e-5)}\n",
    "\n",
    "# random_search_nv = RandomizedSearchCV(GaussianNB(), param_distributions=param_grid, cv=7, scoring='accuracy')\n",
    "# random_search_nv.fit(X_train, y_train)\n",
    "\n"
   ]
  },
  {
   "cell_type": "code",
   "execution_count": 401,
   "metadata": {},
   "outputs": [],
   "source": [
    "# best_params = random_search_nv.best_params_\n",
    "# best_score = random_search_nv.best_score_\n",
    "# print(\"Best hyperparameters:\", best_params)\n",
    "# print(\"Best score:\", best_score)\n"
   ]
  },
  {
   "cell_type": "code",
   "execution_count": 402,
   "metadata": {},
   "outputs": [
    {
     "data": {
      "text/html": [
       "<style>#sk-container-id-28 {color: black;background-color: white;}#sk-container-id-28 pre{padding: 0;}#sk-container-id-28 div.sk-toggleable {background-color: white;}#sk-container-id-28 label.sk-toggleable__label {cursor: pointer;display: block;width: 100%;margin-bottom: 0;padding: 0.3em;box-sizing: border-box;text-align: center;}#sk-container-id-28 label.sk-toggleable__label-arrow:before {content: \"▸\";float: left;margin-right: 0.25em;color: #696969;}#sk-container-id-28 label.sk-toggleable__label-arrow:hover:before {color: black;}#sk-container-id-28 div.sk-estimator:hover label.sk-toggleable__label-arrow:before {color: black;}#sk-container-id-28 div.sk-toggleable__content {max-height: 0;max-width: 0;overflow: hidden;text-align: left;background-color: #f0f8ff;}#sk-container-id-28 div.sk-toggleable__content pre {margin: 0.2em;color: black;border-radius: 0.25em;background-color: #f0f8ff;}#sk-container-id-28 input.sk-toggleable__control:checked~div.sk-toggleable__content {max-height: 200px;max-width: 100%;overflow: auto;}#sk-container-id-28 input.sk-toggleable__control:checked~label.sk-toggleable__label-arrow:before {content: \"▾\";}#sk-container-id-28 div.sk-estimator input.sk-toggleable__control:checked~label.sk-toggleable__label {background-color: #d4ebff;}#sk-container-id-28 div.sk-label input.sk-toggleable__control:checked~label.sk-toggleable__label {background-color: #d4ebff;}#sk-container-id-28 input.sk-hidden--visually {border: 0;clip: rect(1px 1px 1px 1px);clip: rect(1px, 1px, 1px, 1px);height: 1px;margin: -1px;overflow: hidden;padding: 0;position: absolute;width: 1px;}#sk-container-id-28 div.sk-estimator {font-family: monospace;background-color: #f0f8ff;border: 1px dotted black;border-radius: 0.25em;box-sizing: border-box;margin-bottom: 0.5em;}#sk-container-id-28 div.sk-estimator:hover {background-color: #d4ebff;}#sk-container-id-28 div.sk-parallel-item::after {content: \"\";width: 100%;border-bottom: 1px solid gray;flex-grow: 1;}#sk-container-id-28 div.sk-label:hover label.sk-toggleable__label {background-color: #d4ebff;}#sk-container-id-28 div.sk-serial::before {content: \"\";position: absolute;border-left: 1px solid gray;box-sizing: border-box;top: 0;bottom: 0;left: 50%;z-index: 0;}#sk-container-id-28 div.sk-serial {display: flex;flex-direction: column;align-items: center;background-color: white;padding-right: 0.2em;padding-left: 0.2em;position: relative;}#sk-container-id-28 div.sk-item {position: relative;z-index: 1;}#sk-container-id-28 div.sk-parallel {display: flex;align-items: stretch;justify-content: center;background-color: white;position: relative;}#sk-container-id-28 div.sk-item::before, #sk-container-id-28 div.sk-parallel-item::before {content: \"\";position: absolute;border-left: 1px solid gray;box-sizing: border-box;top: 0;bottom: 0;left: 50%;z-index: -1;}#sk-container-id-28 div.sk-parallel-item {display: flex;flex-direction: column;z-index: 1;position: relative;background-color: white;}#sk-container-id-28 div.sk-parallel-item:first-child::after {align-self: flex-end;width: 50%;}#sk-container-id-28 div.sk-parallel-item:last-child::after {align-self: flex-start;width: 50%;}#sk-container-id-28 div.sk-parallel-item:only-child::after {width: 0;}#sk-container-id-28 div.sk-dashed-wrapped {border: 1px dashed gray;margin: 0 0.4em 0.5em 0.4em;box-sizing: border-box;padding-bottom: 0.4em;background-color: white;}#sk-container-id-28 div.sk-label label {font-family: monospace;font-weight: bold;display: inline-block;line-height: 1.2em;}#sk-container-id-28 div.sk-label-container {text-align: center;}#sk-container-id-28 div.sk-container {/* jupyter's `normalize.less` sets `[hidden] { display: none; }` but bootstrap.min.css set `[hidden] { display: none !important; }` so we also need the `!important` here to be able to override the default hidden behavior on the sphinx rendered scikit-learn.org. See: https://github.com/scikit-learn/scikit-learn/issues/21755 */display: inline-block !important;position: relative;}#sk-container-id-28 div.sk-text-repr-fallback {display: none;}</style><div id=\"sk-container-id-28\" class=\"sk-top-container\"><div class=\"sk-text-repr-fallback\"><pre>GaussianNB(var_smoothing=9.974812938618999e-06)</pre><b>In a Jupyter environment, please rerun this cell to show the HTML representation or trust the notebook. <br />On GitHub, the HTML representation is unable to render, please try loading this page with nbviewer.org.</b></div><div class=\"sk-container\" hidden><div class=\"sk-item\"><div class=\"sk-estimator sk-toggleable\"><input class=\"sk-toggleable__control sk-hidden--visually\" id=\"sk-estimator-id-40\" type=\"checkbox\" checked><label for=\"sk-estimator-id-40\" class=\"sk-toggleable__label sk-toggleable__label-arrow\">GaussianNB</label><div class=\"sk-toggleable__content\"><pre>GaussianNB(var_smoothing=9.974812938618999e-06)</pre></div></div></div></div></div>"
      ],
      "text/plain": [
       "GaussianNB(var_smoothing=9.974812938618999e-06)"
      ]
     },
     "execution_count": 402,
     "metadata": {},
     "output_type": "execute_result"
    }
   ],
   "source": [
    "from sklearn.naive_bayes import GaussianNB\n",
    "\n",
    "# Create a Gaussian Naive Bayes model\n",
    "model_nb = GaussianNB(var_smoothing=9.974812938618999e-06)\n",
    "\n",
    "# Fitting the model to the training data\n",
    "model_nb.fit(X_train, y_train)\n"
   ]
  },
  {
   "cell_type": "code",
   "execution_count": 403,
   "metadata": {},
   "outputs": [],
   "source": [
    "y_pred_nb = model_nb.predict(X_test)"
   ]
  },
  {
   "attachments": {},
   "cell_type": "markdown",
   "metadata": {},
   "source": [
    "##### Evaluation"
   ]
  },
  {
   "cell_type": "code",
   "execution_count": 404,
   "metadata": {},
   "outputs": [
    {
     "name": "stdout",
     "output_type": "stream",
     "text": [
      "              precision    recall  f1-score   support\n",
      "\n",
      "           0       0.84      0.82      0.83       411\n",
      "           1       0.85      0.86      0.85       459\n",
      "\n",
      "    accuracy                           0.84       870\n",
      "   macro avg       0.84      0.84      0.84       870\n",
      "weighted avg       0.84      0.84      0.84       870\n",
      "\n",
      "F1 score micro: 0.8413793103448276\n",
      "F1 score macro: 0.8407658517952634\n"
     ]
    }
   ],
   "source": [
    "print(classification_report(y_test, y_pred_nb))\n",
    "# Menghitung F1 score micro\n",
    "f1_micro = f1_score(y_test, y_pred_nb, average='micro')\n",
    "\n",
    "print('F1 score micro:', f1_micro)\n",
    "\n",
    "# Menghitung F1 score micro\n",
    "f1_micro = f1_score(y_test, y_pred_nb, average='macro')\n",
    "\n",
    "print('F1 score macro:', f1_micro)"
   ]
  },
  {
   "cell_type": "code",
   "execution_count": 405,
   "metadata": {},
   "outputs": [
    {
     "data": {
      "image/png": "[encoded data removed]",
      "text/plain": [
       "<Figure size 600x400 with 2 Axes>"
      ]
     },
     "metadata": {},
     "output_type": "display_data"
    }
   ],
   "source": [
    "cm = confusion_matrix(y_test, y_pred_nb)\n",
    "\n",
    "# Membuat heatmap dari confusion matrix\n",
    "sns.set()\n",
    "plt.figure(figsize=(6,4))\n",
    "sns.heatmap(cm, annot=True, cmap='Blues', fmt='g')\n",
    "plt.title('Confusion Matrix')\n",
    "plt.xlabel('Predicted Labels')\n",
    "plt.ylabel('True Labels')\n",
    "plt.show()\n"
   ]
  },
  {
   "attachments": {},
   "cell_type": "markdown",
   "metadata": {},
   "source": [
    "### KNN"
   ]
  },
  {
   "attachments": {},
   "cell_type": "markdown",
   "metadata": {},
   "source": [
    "##### Tuning"
   ]
  },
  {
   "cell_type": "code",
   "execution_count": 406,
   "metadata": {},
   "outputs": [],
   "source": [
    "# from sklearn.neighbors import KNeighborsClassifier\n",
    "# from sklearn.model_selection import RandomizedSearchCV\n",
    "# from scipy.stats import randint\n",
    "\n",
    "# # Membuat model KNN\n",
    "# knn = KNeighborsClassifier()\n",
    "\n",
    "# # Membuat dictionary berisi parameter yang akan diuji\n",
    "# params = {'n_neighbors': randint(3, 12),  # Menggunakan distribusi acak untuk n_neighbors dari 3 hingga 11\n",
    "#         'weights': ['uniform', 'distance'],\n",
    "#         'p': [1, 2]}\n",
    "\n",
    "# # Melakukan Randomized Search dengan cross validation\n",
    "# random_search_knn = RandomizedSearchCV(knn, param_distributions=params, scoring='accuracy', cv=5, n_iter=10)\n",
    "# random_search_knn.fit(X_train, y_train)\n",
    "\n",
    "# # Menampilkan parameter terbaik dan skor akurasi terbaik\n",
    "# print(\"Best parameters:\", random_search_knn.best_params_)\n",
    "# print(\"Best accuracy score:\", random_search_knn.best_score_)\n",
    "\n",
    "# # Membuat model baru dengan parameter terbaik dan melatih pada data training\n",
    "# best_knn = KNeighborsClassifier(n_neighbors=random_search_knn.best_params_['n_neighbors'], \n",
    "#                                 weights=random_search_knn.best_params_['weights'], \n",
    "#                                 p=random_search_knn.best_params_['p'])\n",
    "# best_knn.fit(X_train, y_train)\n"
   ]
  },
  {
   "attachments": {},
   "cell_type": "markdown",
   "metadata": {},
   "source": [
    "##### Fitting"
   ]
  },
  {
   "cell_type": "code",
   "execution_count": 407,
   "metadata": {},
   "outputs": [
    {
     "data": {
      "text/html": [
       "<style>#sk-container-id-29 {color: black;background-color: white;}#sk-container-id-29 pre{padding: 0;}#sk-container-id-29 div.sk-toggleable {background-color: white;}#sk-container-id-29 label.sk-toggleable__label {cursor: pointer;display: block;width: 100%;margin-bottom: 0;padding: 0.3em;box-sizing: border-box;text-align: center;}#sk-container-id-29 label.sk-toggleable__label-arrow:before {content: \"▸\";float: left;margin-right: 0.25em;color: #696969;}#sk-container-id-29 label.sk-toggleable__label-arrow:hover:before {color: black;}#sk-container-id-29 div.sk-estimator:hover label.sk-toggleable__label-arrow:before {color: black;}#sk-container-id-29 div.sk-toggleable__content {max-height: 0;max-width: 0;overflow: hidden;text-align: left;background-color: #f0f8ff;}#sk-container-id-29 div.sk-toggleable__content pre {margin: 0.2em;color: black;border-radius: 0.25em;background-color: #f0f8ff;}#sk-container-id-29 input.sk-toggleable__control:checked~div.sk-toggleable__content {max-height: 200px;max-width: 100%;overflow: auto;}#sk-container-id-29 input.sk-toggleable__control:checked~label.sk-toggleable__label-arrow:before {content: \"▾\";}#sk-container-id-29 div.sk-estimator input.sk-toggleable__control:checked~label.sk-toggleable__label {background-color: #d4ebff;}#sk-container-id-29 div.sk-label input.sk-toggleable__control:checked~label.sk-toggleable__label {background-color: #d4ebff;}#sk-container-id-29 input.sk-hidden--visually {border: 0;clip: rect(1px 1px 1px 1px);clip: rect(1px, 1px, 1px, 1px);height: 1px;margin: -1px;overflow: hidden;padding: 0;position: absolute;width: 1px;}#sk-container-id-29 div.sk-estimator {font-family: monospace;background-color: #f0f8ff;border: 1px dotted black;border-radius: 0.25em;box-sizing: border-box;margin-bottom: 0.5em;}#sk-container-id-29 div.sk-estimator:hover {background-color: #d4ebff;}#sk-container-id-29 div.sk-parallel-item::after {content: \"\";width: 100%;border-bottom: 1px solid gray;flex-grow: 1;}#sk-container-id-29 div.sk-label:hover label.sk-toggleable__label {background-color: #d4ebff;}#sk-container-id-29 div.sk-serial::before {content: \"\";position: absolute;border-left: 1px solid gray;box-sizing: border-box;top: 0;bottom: 0;left: 50%;z-index: 0;}#sk-container-id-29 div.sk-serial {display: flex;flex-direction: column;align-items: center;background-color: white;padding-right: 0.2em;padding-left: 0.2em;position: relative;}#sk-container-id-29 div.sk-item {position: relative;z-index: 1;}#sk-container-id-29 div.sk-parallel {display: flex;align-items: stretch;justify-content: center;background-color: white;position: relative;}#sk-container-id-29 div.sk-item::before, #sk-container-id-29 div.sk-parallel-item::before {content: \"\";position: absolute;border-left: 1px solid gray;box-sizing: border-box;top: 0;bottom: 0;left: 50%;z-index: -1;}#sk-container-id-29 div.sk-parallel-item {display: flex;flex-direction: column;z-index: 1;position: relative;background-color: white;}#sk-container-id-29 div.sk-parallel-item:first-child::after {align-self: flex-end;width: 50%;}#sk-container-id-29 div.sk-parallel-item:last-child::after {align-self: flex-start;width: 50%;}#sk-container-id-29 div.sk-parallel-item:only-child::after {width: 0;}#sk-container-id-29 div.sk-dashed-wrapped {border: 1px dashed gray;margin: 0 0.4em 0.5em 0.4em;box-sizing: border-box;padding-bottom: 0.4em;background-color: white;}#sk-container-id-29 div.sk-label label {font-family: monospace;font-weight: bold;display: inline-block;line-height: 1.2em;}#sk-container-id-29 div.sk-label-container {text-align: center;}#sk-container-id-29 div.sk-container {/* jupyter's `normalize.less` sets `[hidden] { display: none; }` but bootstrap.min.css set `[hidden] { display: none !important; }` so we also need the `!important` here to be able to override the default hidden behavior on the sphinx rendered scikit-learn.org. See: https://github.com/scikit-learn/scikit-learn/issues/21755 */display: inline-block !important;position: relative;}#sk-container-id-29 div.sk-text-repr-fallback {display: none;}</style><div id=\"sk-container-id-29\" class=\"sk-top-container\"><div class=\"sk-text-repr-fallback\"><pre>KNeighborsClassifier(n_neighbors=3, p=1, weights=&#x27;distance&#x27;)</pre><b>In a Jupyter environment, please rerun this cell to show the HTML representation or trust the notebook. <br />On GitHub, the HTML representation is unable to render, please try loading this page with nbviewer.org.</b></div><div class=\"sk-container\" hidden><div class=\"sk-item\"><div class=\"sk-estimator sk-toggleable\"><input class=\"sk-toggleable__control sk-hidden--visually\" id=\"sk-estimator-id-41\" type=\"checkbox\" checked><label for=\"sk-estimator-id-41\" class=\"sk-toggleable__label sk-toggleable__label-arrow\">KNeighborsClassifier</label><div class=\"sk-toggleable__content\"><pre>KNeighborsClassifier(n_neighbors=3, p=1, weights=&#x27;distance&#x27;)</pre></div></div></div></div></div>"
      ],
      "text/plain": [
       "KNeighborsClassifier(n_neighbors=3, p=1, weights='distance')"
      ]
     },
     "execution_count": 407,
     "metadata": {},
     "output_type": "execute_result"
    }
   ],
   "source": [
    "from sklearn.neighbors import KNeighborsClassifier\n",
    "\n",
    "# Membuat model KNN\n",
    "knn = KNeighborsClassifier(n_neighbors=3, p=1, weights='distance')\n",
    "\n",
    "# Melatih model pada data training\n",
    "knn.fit(X_train, y_train)\n"
   ]
  },
  {
   "cell_type": "code",
   "execution_count": 408,
   "metadata": {},
   "outputs": [],
   "source": [
    "y_pred_knn = knn.predict(X_test)"
   ]
  },
  {
   "attachments": {},
   "cell_type": "markdown",
   "metadata": {},
   "source": [
    "##### Evaluation"
   ]
  },
  {
   "cell_type": "code",
   "execution_count": 409,
   "metadata": {},
   "outputs": [
    {
     "name": "stdout",
     "output_type": "stream",
     "text": [
      "              precision    recall  f1-score   support\n",
      "\n",
      "           0       0.91      0.93      0.92       411\n",
      "           1       0.93      0.92      0.93       459\n",
      "\n",
      "    accuracy                           0.92       870\n",
      "   macro avg       0.92      0.92      0.92       870\n",
      "weighted avg       0.92      0.92      0.92       870\n",
      "\n",
      "F1 score micro: 0.9218390804597701\n",
      "F1 score macro: 0.9216735072156759\n"
     ]
    }
   ],
   "source": [
    "print(classification_report(y_test, y_pred_knn))\n",
    "# Menghitung F1 score micro\n",
    "f1_micro = f1_score(y_test, y_pred_knn, average='micro')\n",
    "\n",
    "print('F1 score micro:', f1_micro)\n",
    "\n",
    "# Menghitung F1 score micro\n",
    "f1_micro = f1_score(y_test, y_pred_knn, average='macro')\n",
    "\n",
    "print('F1 score macro:', f1_micro)"
   ]
  },
  {
   "cell_type": "code",
   "execution_count": 410,
   "metadata": {},
   "outputs": [
    {
     "data": {
      "image/png": "[encoded data removed]",
      "text/plain": [
       "<Figure size 600x400 with 2 Axes>"
      ]
     },
     "metadata": {},
     "output_type": "display_data"
    }
   ],
   "source": [
    "cm = confusion_matrix(y_test, y_pred_knn)\n",
    "\n",
    "# Membuat heatmap dari confusion matrix\n",
    "sns.set()\n",
    "plt.figure(figsize=(6,4))\n",
    "sns.heatmap(cm, annot=True, cmap='Blues', fmt='g')\n",
    "plt.title('Confusion Matrix')\n",
    "plt.xlabel('Predicted Labels')\n",
    "plt.ylabel('True Labels')\n",
    "plt.show()\n"
   ]
  },
  {
   "attachments": {},
   "cell_type": "markdown",
   "metadata": {},
   "source": [
    "### GBoost"
   ]
  },
  {
   "attachments": {},
   "cell_type": "markdown",
   "metadata": {},
   "source": [
    "##### Tuning"
   ]
  },
  {
   "cell_type": "code",
   "execution_count": 411,
   "metadata": {},
   "outputs": [],
   "source": [
    "# from sklearn.metrics import accuracy_score\n",
    "# from sklearn.ensemble import GradientBoostingClassifier\n",
    "# from sklearn.model_selection import RandomizedSearchCV\n",
    "\n",
    "# # Create the GradientBoostingClassifier\n",
    "# model = GradientBoostingClassifier()\n",
    "\n",
    "# # Define the hyperparameter space\n",
    "# params = {\n",
    "#     'learning_rate': np.logspace(-3, 0, 10),\n",
    "#     'n_estimators': np.arange(100, 1000, 100),\n",
    "#     'max_depth': np.arange(1, 10),\n",
    "#     'min_samples_split': np.arange(2, 10),\n",
    "#     'min_samples_leaf': np.arange(1, 10),\n",
    "#     'max_features': np.arange(0.1, 1.0, 0.1)\n",
    "# }\n",
    "\n",
    "# # Create the RandomizedSearchCV object\n",
    "# best_gb = RandomizedSearchCV(model, params, cv=7, n_iter=100,n_jobs=-1,verbose=3)\n",
    "\n",
    "# # Fit the model\n",
    "# best_gb.fit(X_train, y_train)"
   ]
  },
  {
   "cell_type": "code",
   "execution_count": 412,
   "metadata": {},
   "outputs": [],
   "source": [
    "# best_params = best_gb.best_params_\n",
    "# best_score = best_gb.best_score_\n",
    "# print(\"Best hyperparameters:\", best_params)\n",
    "# print(\"Best score:\", best_score)"
   ]
  },
  {
   "cell_type": "code",
   "execution_count": 413,
   "metadata": {},
   "outputs": [],
   "source": [
    "##### Fitting"
   ]
  },
  {
   "cell_type": "code",
   "execution_count": 414,
   "metadata": {},
   "outputs": [
    {
     "name": "stdout",
     "output_type": "stream",
     "text": [
      "      Iter       Train Loss   Remaining Time \n",
      "         1           1.3173            3.41s\n",
      "         2           1.2531            3.40s\n",
      "         3           1.1927            3.55s\n",
      "         4           1.1404            3.64s\n",
      "         5           1.0900            3.50s\n",
      "         6           1.0431            3.40s\n",
      "         7           1.0023            3.38s\n",
      "         8           0.9610            3.32s\n",
      "         9           0.9239            3.31s\n",
      "        10           0.8907            3.28s\n",
      "        20           0.6330            3.21s\n",
      "        30           0.4746            3.08s\n",
      "        40           0.3791            3.00s\n",
      "        50           0.3164            2.87s\n",
      "        60           0.2743            2.77s\n",
      "        70           0.2477            2.70s\n",
      "        80           0.2295            2.62s\n",
      "        90           0.2167            2.53s\n",
      "       100           0.2069            2.44s\n",
      "       200           0.1805            1.59s\n",
      "       300           0.1780            0.79s\n",
      "       400           0.1777            0.00s\n"
     ]
    },
    {
     "data": {
      "text/html": [
       "<style>#sk-container-id-30 {color: black;background-color: white;}#sk-container-id-30 pre{padding: 0;}#sk-container-id-30 div.sk-toggleable {background-color: white;}#sk-container-id-30 label.sk-toggleable__label {cursor: pointer;display: block;width: 100%;margin-bottom: 0;padding: 0.3em;box-sizing: border-box;text-align: center;}#sk-container-id-30 label.sk-toggleable__label-arrow:before {content: \"▸\";float: left;margin-right: 0.25em;color: #696969;}#sk-container-id-30 label.sk-toggleable__label-arrow:hover:before {color: black;}#sk-container-id-30 div.sk-estimator:hover label.sk-toggleable__label-arrow:before {color: black;}#sk-container-id-30 div.sk-toggleable__content {max-height: 0;max-width: 0;overflow: hidden;text-align: left;background-color: #f0f8ff;}#sk-container-id-30 div.sk-toggleable__content pre {margin: 0.2em;color: black;border-radius: 0.25em;background-color: #f0f8ff;}#sk-container-id-30 input.sk-toggleable__control:checked~div.sk-toggleable__content {max-height: 200px;max-width: 100%;overflow: auto;}#sk-container-id-30 input.sk-toggleable__control:checked~label.sk-toggleable__label-arrow:before {content: \"▾\";}#sk-container-id-30 div.sk-estimator input.sk-toggleable__control:checked~label.sk-toggleable__label {background-color: #d4ebff;}#sk-container-id-30 div.sk-label input.sk-toggleable__control:checked~label.sk-toggleable__label {background-color: #d4ebff;}#sk-container-id-30 input.sk-hidden--visually {border: 0;clip: rect(1px 1px 1px 1px);clip: rect(1px, 1px, 1px, 1px);height: 1px;margin: -1px;overflow: hidden;padding: 0;position: absolute;width: 1px;}#sk-container-id-30 div.sk-estimator {font-family: monospace;background-color: #f0f8ff;border: 1px dotted black;border-radius: 0.25em;box-sizing: border-box;margin-bottom: 0.5em;}#sk-container-id-30 div.sk-estimator:hover {background-color: #d4ebff;}#sk-container-id-30 div.sk-parallel-item::after {content: \"\";width: 100%;border-bottom: 1px solid gray;flex-grow: 1;}#sk-container-id-30 div.sk-label:hover label.sk-toggleable__label {background-color: #d4ebff;}#sk-container-id-30 div.sk-serial::before {content: \"\";position: absolute;border-left: 1px solid gray;box-sizing: border-box;top: 0;bottom: 0;left: 50%;z-index: 0;}#sk-container-id-30 div.sk-serial {display: flex;flex-direction: column;align-items: center;background-color: white;padding-right: 0.2em;padding-left: 0.2em;position: relative;}#sk-container-id-30 div.sk-item {position: relative;z-index: 1;}#sk-container-id-30 div.sk-parallel {display: flex;align-items: stretch;justify-content: center;background-color: white;position: relative;}#sk-container-id-30 div.sk-item::before, #sk-container-id-30 div.sk-parallel-item::before {content: \"\";position: absolute;border-left: 1px solid gray;box-sizing: border-box;top: 0;bottom: 0;left: 50%;z-index: -1;}#sk-container-id-30 div.sk-parallel-item {display: flex;flex-direction: column;z-index: 1;position: relative;background-color: white;}#sk-container-id-30 div.sk-parallel-item:first-child::after {align-self: flex-end;width: 50%;}#sk-container-id-30 div.sk-parallel-item:last-child::after {align-self: flex-start;width: 50%;}#sk-container-id-30 div.sk-parallel-item:only-child::after {width: 0;}#sk-container-id-30 div.sk-dashed-wrapped {border: 1px dashed gray;margin: 0 0.4em 0.5em 0.4em;box-sizing: border-box;padding-bottom: 0.4em;background-color: white;}#sk-container-id-30 div.sk-label label {font-family: monospace;font-weight: bold;display: inline-block;line-height: 1.2em;}#sk-container-id-30 div.sk-label-container {text-align: center;}#sk-container-id-30 div.sk-container {/* jupyter's `normalize.less` sets `[hidden] { display: none; }` but bootstrap.min.css set `[hidden] { display: none !important; }` so we also need the `!important` here to be able to override the default hidden behavior on the sphinx rendered scikit-learn.org. See: https://github.com/scikit-learn/scikit-learn/issues/21755 */display: inline-block !important;position: relative;}#sk-container-id-30 div.sk-text-repr-fallback {display: none;}</style><div id=\"sk-container-id-30\" class=\"sk-top-container\"><div class=\"sk-text-repr-fallback\"><pre>GradientBoostingClassifier(learning_rate=0.046415888336127774, max_depth=4,\n",
       "                           max_features=0.8, min_samples_leaf=4,\n",
       "                           min_samples_split=4, n_estimators=400,\n",
       "                           random_state=42, verbose=1)</pre><b>In a Jupyter environment, please rerun this cell to show the HTML representation or trust the notebook. <br />On GitHub, the HTML representation is unable to render, please try loading this page with nbviewer.org.</b></div><div class=\"sk-container\" hidden><div class=\"sk-item\"><div class=\"sk-estimator sk-toggleable\"><input class=\"sk-toggleable__control sk-hidden--visually\" id=\"sk-estimator-id-42\" type=\"checkbox\" checked><label for=\"sk-estimator-id-42\" class=\"sk-toggleable__label sk-toggleable__label-arrow\">GradientBoostingClassifier</label><div class=\"sk-toggleable__content\"><pre>GradientBoostingClassifier(learning_rate=0.046415888336127774, max_depth=4,\n",
       "                           max_features=0.8, min_samples_leaf=4,\n",
       "                           min_samples_split=4, n_estimators=400,\n",
       "                           random_state=42, verbose=1)</pre></div></div></div></div></div>"
      ],
      "text/plain": [
       "GradientBoostingClassifier(learning_rate=0.046415888336127774, max_depth=4,\n",
       "                           max_features=0.8, min_samples_leaf=4,\n",
       "                           min_samples_split=4, n_estimators=400,\n",
       "                           random_state=42, verbose=1)"
      ]
     },
     "execution_count": 414,
     "metadata": {},
     "output_type": "execute_result"
    }
   ],
   "source": [
    "from sklearn.ensemble import GradientBoostingClassifier\n",
    "\n",
    "# Membuat model Gradient Boosting\n",
    "gb = GradientBoostingClassifier(n_estimators=400,\n",
    "                                min_samples_split=4,\n",
    "                                min_samples_leaf=4,\n",
    "                                max_features=0.8,\n",
    "                                max_depth=4,\n",
    "                                learning_rate=0.046415888336127774,verbose=1,random_state=42)\n",
    "\n",
    "# Melatih model pada data training\n",
    "gb.fit(X_train, y_train)\n"
   ]
  },
  {
   "cell_type": "code",
   "execution_count": 415,
   "metadata": {},
   "outputs": [],
   "source": [
    "y_pred_gb = gb.predict(X_test)"
   ]
  },
  {
   "attachments": {},
   "cell_type": "markdown",
   "metadata": {},
   "source": [
    "##### Evaluation"
   ]
  },
  {
   "cell_type": "code",
   "execution_count": 416,
   "metadata": {},
   "outputs": [
    {
     "name": "stdout",
     "output_type": "stream",
     "text": [
      "              precision    recall  f1-score   support\n",
      "\n",
      "           0       0.97      0.95      0.96       411\n",
      "           1       0.96      0.97      0.96       459\n",
      "\n",
      "    accuracy                           0.96       870\n",
      "   macro avg       0.96      0.96      0.96       870\n",
      "weighted avg       0.96      0.96      0.96       870\n",
      "\n",
      "F1 score micro: 0.9620689655172414\n",
      "F1 score macro: 0.9619276718592318\n"
     ]
    }
   ],
   "source": [
    "print(classification_report(y_test, y_pred_gb))\n",
    "# Menghitung F1 score micro\n",
    "f1_micro = f1_score(y_test, y_pred_gb, average='micro')\n",
    "\n",
    "print('F1 score micro:', f1_micro)\n",
    "\n",
    "# Menghitung F1 score micro\n",
    "f1_micro = f1_score(y_test, y_pred_gb, average='macro')\n",
    "\n",
    "print('F1 score macro:', f1_micro)\n"
   ]
  },
  {
   "cell_type": "code",
   "execution_count": 417,
   "metadata": {},
   "outputs": [
    {
     "data": {
      "image/png": "[encoded data removed]",
      "text/plain": [
       "<Figure size 600x400 with 2 Axes>"
      ]
     },
     "metadata": {},
     "output_type": "display_data"
    }
   ],
   "source": [
    "cm = confusion_matrix(y_test, y_pred_gb)\n",
    "\n",
    "# Membuat heatmap dari confusion matrix\n",
    "sns.set()\n",
    "plt.figure(figsize=(6,4))\n",
    "sns.heatmap(cm, annot=True, cmap='Blues', fmt='g')\n",
    "plt.title('Confusion Matrix')\n",
    "plt.xlabel('Predicted Labels')\n",
    "plt.ylabel('True Labels')\n",
    "plt.show()\n"
   ]
  },
  {
   "attachments": {},
   "cell_type": "markdown",
   "metadata": {},
   "source": [
    "### Bagging DTC"
   ]
  },
  {
   "attachments": {},
   "cell_type": "markdown",
   "metadata": {},
   "source": [
    "##### Tuning"
   ]
  },
  {
   "cell_type": "code",
   "execution_count": 418,
   "metadata": {},
   "outputs": [],
   "source": [
    "# from sklearn.ensemble import BaggingClassifier\n",
    "# from sklearn.tree import DecisionTreeClassifier\n",
    "# from sklearn.model_selection import RandomizedSearchCV\n",
    "# from scipy.stats import randint\n",
    "\n",
    "# # Definisikan model Decision Tree Classifier\n",
    "# dtc = DecisionTreeClassifier(random_state=42)\n",
    "\n",
    "# # Definisikan model Bagging Classifier dengan Decision Tree Classifier sebagai base estimator\n",
    "# bag_clf = BaggingClassifier(estimator=dtc,random_state=42)\n",
    "\n",
    "# # Definisikan hyperparameter space yang akan di-tune\n",
    "# param_dist = {\n",
    "#     'n_estimators': randint(10, 100),\n",
    "#     'max_samples': [0.5, 0.6, 0.7, 0.8, 0.9],\n",
    "#     'max_features': [0.5, 0.6, 0.7, 0.8, 0.9],\n",
    "#     'bootstrap': [True, False],\n",
    "#     'bootstrap_features': [True, False]\n",
    "# }\n",
    "\n",
    "# # Inisialisasi Randomized Search CV dengan menggunakan hyperparameter space dan 5-fold cross validation\n",
    "# best_bg = RandomizedSearchCV(bag_clf, param_distributions=param_dist, cv=7, n_iter=20,random_state=42,n_jobs=-1,verbose=1)\n",
    "\n",
    "# # Lakukan training menggunakan Randomized Search CV\n",
    "# best_bg.fit(X_train, y_train)\n",
    "\n",
    "# # Cetak hasil tuning\n",
    "# print('Best parameters:', best_bg.best_params_)\n",
    "# print('Best score:', best_bg.best_score_)\n"
   ]
  },
  {
   "attachments": {},
   "cell_type": "markdown",
   "metadata": {},
   "source": [
    "##### Fitting"
   ]
  },
  {
   "cell_type": "code",
   "execution_count": 419,
   "metadata": {},
   "outputs": [
    {
     "data": {
      "text/html": [
       "<style>#sk-container-id-31 {color: black;background-color: white;}#sk-container-id-31 pre{padding: 0;}#sk-container-id-31 div.sk-toggleable {background-color: white;}#sk-container-id-31 label.sk-toggleable__label {cursor: pointer;display: block;width: 100%;margin-bottom: 0;padding: 0.3em;box-sizing: border-box;text-align: center;}#sk-container-id-31 label.sk-toggleable__label-arrow:before {content: \"▸\";float: left;margin-right: 0.25em;color: #696969;}#sk-container-id-31 label.sk-toggleable__label-arrow:hover:before {color: black;}#sk-container-id-31 div.sk-estimator:hover label.sk-toggleable__label-arrow:before {color: black;}#sk-container-id-31 div.sk-toggleable__content {max-height: 0;max-width: 0;overflow: hidden;text-align: left;background-color: #f0f8ff;}#sk-container-id-31 div.sk-toggleable__content pre {margin: 0.2em;color: black;border-radius: 0.25em;background-color: #f0f8ff;}#sk-container-id-31 input.sk-toggleable__control:checked~div.sk-toggleable__content {max-height: 200px;max-width: 100%;overflow: auto;}#sk-container-id-31 input.sk-toggleable__control:checked~label.sk-toggleable__label-arrow:before {content: \"▾\";}#sk-container-id-31 div.sk-estimator input.sk-toggleable__control:checked~label.sk-toggleable__label {background-color: #d4ebff;}#sk-container-id-31 div.sk-label input.sk-toggleable__control:checked~label.sk-toggleable__label {background-color: #d4ebff;}#sk-container-id-31 input.sk-hidden--visually {border: 0;clip: rect(1px 1px 1px 1px);clip: rect(1px, 1px, 1px, 1px);height: 1px;margin: -1px;overflow: hidden;padding: 0;position: absolute;width: 1px;}#sk-container-id-31 div.sk-estimator {font-family: monospace;background-color: #f0f8ff;border: 1px dotted black;border-radius: 0.25em;box-sizing: border-box;margin-bottom: 0.5em;}#sk-container-id-31 div.sk-estimator:hover {background-color: #d4ebff;}#sk-container-id-31 div.sk-parallel-item::after {content: \"\";width: 100%;border-bottom: 1px solid gray;flex-grow: 1;}#sk-container-id-31 div.sk-label:hover label.sk-toggleable__label {background-color: #d4ebff;}#sk-container-id-31 div.sk-serial::before {content: \"\";position: absolute;border-left: 1px solid gray;box-sizing: border-box;top: 0;bottom: 0;left: 50%;z-index: 0;}#sk-container-id-31 div.sk-serial {display: flex;flex-direction: column;align-items: center;background-color: white;padding-right: 0.2em;padding-left: 0.2em;position: relative;}#sk-container-id-31 div.sk-item {position: relative;z-index: 1;}#sk-container-id-31 div.sk-parallel {display: flex;align-items: stretch;justify-content: center;background-color: white;position: relative;}#sk-container-id-31 div.sk-item::before, #sk-container-id-31 div.sk-parallel-item::before {content: \"\";position: absolute;border-left: 1px solid gray;box-sizing: border-box;top: 0;bottom: 0;left: 50%;z-index: -1;}#sk-container-id-31 div.sk-parallel-item {display: flex;flex-direction: column;z-index: 1;position: relative;background-color: white;}#sk-container-id-31 div.sk-parallel-item:first-child::after {align-self: flex-end;width: 50%;}#sk-container-id-31 div.sk-parallel-item:last-child::after {align-self: flex-start;width: 50%;}#sk-container-id-31 div.sk-parallel-item:only-child::after {width: 0;}#sk-container-id-31 div.sk-dashed-wrapped {border: 1px dashed gray;margin: 0 0.4em 0.5em 0.4em;box-sizing: border-box;padding-bottom: 0.4em;background-color: white;}#sk-container-id-31 div.sk-label label {font-family: monospace;font-weight: bold;display: inline-block;line-height: 1.2em;}#sk-container-id-31 div.sk-label-container {text-align: center;}#sk-container-id-31 div.sk-container {/* jupyter's `normalize.less` sets `[hidden] { display: none; }` but bootstrap.min.css set `[hidden] { display: none !important; }` so we also need the `!important` here to be able to override the default hidden behavior on the sphinx rendered scikit-learn.org. See: https://github.com/scikit-learn/scikit-learn/issues/21755 */display: inline-block !important;position: relative;}#sk-container-id-31 div.sk-text-repr-fallback {display: none;}</style><div id=\"sk-container-id-31\" class=\"sk-top-container\"><div class=\"sk-text-repr-fallback\"><pre>BaggingClassifier(estimator=DecisionTreeClassifier(min_samples_leaf=3,\n",
       "                                                   random_state=42),\n",
       "                  max_features=0.9, max_samples=0.7, n_estimators=81, n_jobs=-1,\n",
       "                  random_state=42)</pre><b>In a Jupyter environment, please rerun this cell to show the HTML representation or trust the notebook. <br />On GitHub, the HTML representation is unable to render, please try loading this page with nbviewer.org.</b></div><div class=\"sk-container\" hidden><div class=\"sk-item sk-dashed-wrapped\"><div class=\"sk-label-container\"><div class=\"sk-label sk-toggleable\"><input class=\"sk-toggleable__control sk-hidden--visually\" id=\"sk-estimator-id-43\" type=\"checkbox\" ><label for=\"sk-estimator-id-43\" class=\"sk-toggleable__label sk-toggleable__label-arrow\">BaggingClassifier</label><div class=\"sk-toggleable__content\"><pre>BaggingClassifier(estimator=DecisionTreeClassifier(min_samples_leaf=3,\n",
       "                                                   random_state=42),\n",
       "                  max_features=0.9, max_samples=0.7, n_estimators=81, n_jobs=-1,\n",
       "                  random_state=42)</pre></div></div></div><div class=\"sk-parallel\"><div class=\"sk-parallel-item\"><div class=\"sk-item\"><div class=\"sk-label-container\"><div class=\"sk-label sk-toggleable\"><input class=\"sk-toggleable__control sk-hidden--visually\" id=\"sk-estimator-id-44\" type=\"checkbox\" ><label for=\"sk-estimator-id-44\" class=\"sk-toggleable__label sk-toggleable__label-arrow\">estimator: DecisionTreeClassifier</label><div class=\"sk-toggleable__content\"><pre>DecisionTreeClassifier(min_samples_leaf=3, random_state=42)</pre></div></div></div><div class=\"sk-serial\"><div class=\"sk-item\"><div class=\"sk-estimator sk-toggleable\"><input class=\"sk-toggleable__control sk-hidden--visually\" id=\"sk-estimator-id-45\" type=\"checkbox\" ><label for=\"sk-estimator-id-45\" class=\"sk-toggleable__label sk-toggleable__label-arrow\">DecisionTreeClassifier</label><div class=\"sk-toggleable__content\"><pre>DecisionTreeClassifier(min_samples_leaf=3, random_state=42)</pre></div></div></div></div></div></div></div></div></div></div>"
      ],
      "text/plain": [
       "BaggingClassifier(estimator=DecisionTreeClassifier(min_samples_leaf=3,\n",
       "                                                   random_state=42),\n",
       "                  max_features=0.9, max_samples=0.7, n_estimators=81, n_jobs=-1,\n",
       "                  random_state=42)"
      ]
     },
     "execution_count": 419,
     "metadata": {},
     "output_type": "execute_result"
    }
   ],
   "source": [
    "from sklearn.ensemble import BaggingClassifier\n",
    "from sklearn.tree import DecisionTreeClassifier\n",
    "\n",
    "# Definisikan model Decision Tree Classifier\n",
    "dtc = DecisionTreeClassifier(random_state=42,criterion='gini',max_depth=None,min_samples_leaf=3,min_samples_split=2)\n",
    "\n",
    "# Membuat model Bagging dengan Decision Tree Classifier sebagai estimator\n",
    "bagging = BaggingClassifier(estimator=dtc, n_estimators=81,\n",
    "                            max_samples=0.7, max_features=0.9,\n",
    "                            bootstrap=True, bootstrap_features=False,random_state=42,n_jobs=-1)\n",
    "\n",
    "# Melatih model pada data training\n",
    "bagging.fit(X_train, y_train)\n"
   ]
  },
  {
   "cell_type": "code",
   "execution_count": 420,
   "metadata": {},
   "outputs": [],
   "source": [
    "y_pred_bg = bagging.predict(X_test)"
   ]
  },
  {
   "attachments": {},
   "cell_type": "markdown",
   "metadata": {},
   "source": [
    "##### Evaluation"
   ]
  },
  {
   "cell_type": "code",
   "execution_count": 421,
   "metadata": {},
   "outputs": [
    {
     "name": "stdout",
     "output_type": "stream",
     "text": [
      "              precision    recall  f1-score   support\n",
      "\n",
      "           0       0.96      0.98      0.97       411\n",
      "           1       0.98      0.96      0.97       459\n",
      "\n",
      "    accuracy                           0.97       870\n",
      "   macro avg       0.97      0.97      0.97       870\n",
      "weighted avg       0.97      0.97      0.97       870\n",
      "\n",
      "F1 score micro: 0.9689655172413794\n",
      "F1 score macro: 0.9688964393109813\n"
     ]
    }
   ],
   "source": [
    "print(classification_report(y_test, y_pred_bg))\n",
    "# Menghitung F1 score micro\n",
    "f1_micro = f1_score(y_test, y_pred_bg, average='micro')\n",
    "\n",
    "print('F1 score micro:', f1_micro)\n",
    "\n",
    "# Menghitung F1 score micro\n",
    "f1_micro = f1_score(y_test, y_pred_bg, average='macro')\n",
    "\n",
    "print('F1 score macro:', f1_micro)\n"
   ]
  },
  {
   "cell_type": "code",
   "execution_count": 422,
   "metadata": {},
   "outputs": [
    {
     "data": {
      "image/png": "[encoded data removed]",
      "text/plain": [
       "<Figure size 600x400 with 2 Axes>"
      ]
     },
     "metadata": {},
     "output_type": "display_data"
    }
   ],
   "source": [
    "cm = confusion_matrix(y_test, y_pred_bg)\n",
    "\n",
    "# Membuat heatmap dari confusion matrix\n",
    "sns.set()\n",
    "plt.figure(figsize=(6,4))\n",
    "sns.heatmap(cm, annot=True, cmap='Blues', fmt='g')\n",
    "plt.title('Confusion Matrix')\n",
    "plt.xlabel('Predicted Labels')\n",
    "plt.ylabel('True Labels')\n",
    "plt.show()\n"
   ]
  },
  {
   "attachments": {},
   "cell_type": "markdown",
   "metadata": {},
   "source": [
    "# Desicion Tree"
   ]
  },
  {
   "cell_type": "code",
   "execution_count": 423,
   "metadata": {},
   "outputs": [],
   "source": [
    "from sklearn.tree import DecisionTreeClassifier\n",
    "\n",
    "# Definisikan model Decision Tree Classifier\n",
    "dtc = DecisionTreeClassifier(random_state=42,criterion='gini',max_depth=None,min_samples_leaf=3,min_samples_split=2)\n",
    "\n",
    "dtc.fit(X_train,y_train)\n",
    "\n",
    "y_pred_dtc = dtc.predict(X_test)"
   ]
  },
  {
   "cell_type": "code",
   "execution_count": 424,
   "metadata": {},
   "outputs": [
    {
     "name": "stdout",
     "output_type": "stream",
     "text": [
      "              precision    recall  f1-score   support\n",
      "\n",
      "           0       0.96      0.96      0.96       411\n",
      "           1       0.97      0.96      0.96       459\n",
      "\n",
      "    accuracy                           0.96       870\n",
      "   macro avg       0.96      0.96      0.96       870\n",
      "weighted avg       0.96      0.96      0.96       870\n",
      "\n",
      "F1 score micro: 0.9620689655172414\n",
      "F1 score macro: 0.9619672131147541\n"
     ]
    }
   ],
   "source": [
    "print(classification_report(y_test, y_pred_dtc))\n",
    "# Menghitung F1 score micro\n",
    "f1_micro = f1_score(y_test, y_pred_dtc, average='micro')\n",
    "\n",
    "print('F1 score micro:', f1_micro)\n",
    "\n",
    "# Menghitung F1 score micro\n",
    "f1_micro = f1_score(y_test, y_pred_dtc, average='macro')\n",
    "\n",
    "print('F1 score macro:', f1_micro)\n"
   ]
  },
  {
   "cell_type": "code",
   "execution_count": 425,
   "metadata": {},
   "outputs": [
    {
     "data": {
      "image/png": "[encoded data removed]",
      "text/plain": [
       "<Figure size 600x400 with 2 Axes>"
      ]
     },
     "metadata": {},
     "output_type": "display_data"
    }
   ],
   "source": [
    "cm = confusion_matrix(y_test, y_pred_dtc)\n",
    "\n",
    "# Membuat heatmap dari confusion matrix\n",
    "sns.set()\n",
    "plt.figure(figsize=(6,4))\n",
    "sns.heatmap(cm, annot=True, cmap='Blues', fmt='g')\n",
    "plt.title('Confusion Matrix')\n",
    "plt.xlabel('Predicted Labels')\n",
    "plt.ylabel('True Labels')\n",
    "plt.show()\n"
   ]
  },
  {
   "attachments": {},
   "cell_type": "markdown",
   "metadata": {},
   "source": [
    "# Ensemble"
   ]
  },
  {
   "cell_type": "code",
   "execution_count": 426,
   "metadata": {},
   "outputs": [
    {
     "name": "stdout",
     "output_type": "stream",
     "text": [
      "Accuracy: 0.960919540229885\n"
     ]
    }
   ],
   "source": [
    "# Initialize base estimators\n",
    "from sklearn.ensemble import VotingClassifier\n",
    "\n",
    "# Definisikan model Decision Tree Classifier\n",
    "dtc = DecisionTreeClassifier(random_state=42,criterion='gini',max_depth=None,min_samples_leaf=3,min_samples_split=2)\n",
    "# Defining the RFC model with the specified parameters\n",
    "rfc_model = RandomForestClassifier(n_estimators=822, min_samples_split=5, min_samples_leaf=5, max_features='sqrt', max_depth=200)\n",
    "# Defining the SVC model with the specified parameters\n",
    "svc_model = SVC(C=875.5435906835379, coef0=0.7212236263601225, degree=2, gamma=0.2521164544469635, kernel='rbf')\n",
    "# Initialize ensemble classifier\n",
    "ensemble = VotingClassifier(estimators=[('svc', svc_model),('rfc', rfc_model), ('dtc',dtc)],verbose=1,n_jobs=-1,voting='hard')\n",
    "\n",
    "# Fit model to training data\n",
    "ensemble.fit(X_train, y_train)\n",
    "\n",
    "# Evaluate model on testing data\n",
    "score = ensemble.score(X_test, y_test)\n",
    "print(\"Accuracy:\", score)"
   ]
  },
  {
   "cell_type": "code",
   "execution_count": 427,
   "metadata": {},
   "outputs": [],
   "source": [
    "y_pred_ensemble = ensemble.predict(X_test)"
   ]
  },
  {
   "attachments": {},
   "cell_type": "markdown",
   "metadata": {},
   "source": [
    "##### Evaluation"
   ]
  },
  {
   "cell_type": "code",
   "execution_count": 428,
   "metadata": {},
   "outputs": [
    {
     "name": "stdout",
     "output_type": "stream",
     "text": [
      "              precision    recall  f1-score   support\n",
      "\n",
      "           0       0.97      0.95      0.96       411\n",
      "           1       0.96      0.97      0.96       459\n",
      "\n",
      "    accuracy                           0.96       870\n",
      "   macro avg       0.96      0.96      0.96       870\n",
      "weighted avg       0.96      0.96      0.96       870\n",
      "\n",
      "F1 score micro: 0.960919540229885\n",
      "F1 score macro: 0.9607683982683982\n"
     ]
    }
   ],
   "source": [
    "print(classification_report(y_test, y_pred_ensemble))\n",
    "# Menghitung F1 score micro\n",
    "f1_micro = f1_score(y_test, y_pred_ensemble, average='micro')\n",
    "\n",
    "print('F1 score micro:', f1_micro)\n",
    "\n",
    "# Menghitung F1 score micro\n",
    "f1_micro = f1_score(y_test, y_pred_ensemble, average='macro')\n",
    "\n",
    "print('F1 score macro:', f1_micro)\n"
   ]
  },
  {
   "cell_type": "code",
   "execution_count": 429,
   "metadata": {},
   "outputs": [
    {
     "data": {
      "image/png": "[encoded data removed]",
      "text/plain": [
       "<Figure size 600x400 with 2 Axes>"
      ]
     },
     "metadata": {},
     "output_type": "display_data"
    }
   ],
   "source": [
    "cm = confusion_matrix(y_test, y_pred_ensemble)\n",
    "\n",
    "# Membuat heatmap dari confusion matrix\n",
    "sns.set()\n",
    "plt.figure(figsize=(6,4))\n",
    "sns.heatmap(cm, annot=True, cmap='Blues', fmt='g')\n",
    "plt.title('Confusion Matrix')\n",
    "plt.xlabel('Predicted Labels')\n",
    "plt.ylabel('True Labels')\n",
    "plt.show()\n"
   ]
  },
  {
   "cell_type": "markdown",
   "metadata": {},
   "source": [
    "# Visualization Model\n"
   ]
  },
  {
   "cell_type": "code",
   "execution_count": 430,
   "metadata": {},
   "outputs": [
    {
     "data": {
      "application/vnd.plotly.v1+json": {
       "config": {
        "plotlyServerURL": "https://plot.ly"
       },
       "data": [
        {
         "alignmentgroup": "True",
         "hovertemplate": "metric=accuracy<br>model=%{x}<br>score=%{y}<extra></extra>",
         "legendgroup": "accuracy",
         "marker": {
          "color": "#636EFA",
          "pattern": {
           "shape": ""
          }
         },
         "name": "accuracy",
         "offsetgroup": "accuracy",
         "orientation": "v",
         "showlegend": true,
         "textposition": "auto",
         "texttemplate": "%{y:.5}",
         "type": "bar",
         "x": [
          "DTC",
          "Ensemble",
          "RFC",
          "SVC"
         ],
         "xaxis": "x",
         "y": [
          0.96207,
          0.96092,
          0.95517,
          0.92299
         ],
         "yaxis": "y"
        },
        {
         "alignmentgroup": "True",
         "hovertemplate": "metric=precision<br>model=%{x}<br>score=%{y}<extra></extra>",
         "legendgroup": "precision",
         "marker": {
          "color": "#EF553B",
          "pattern": {
           "shape": ""
          }
         },
         "name": "precision",
         "offsetgroup": "precision",
         "orientation": "v",
         "showlegend": true,
         "textposition": "auto",
         "texttemplate": "%{y:.5}",
         "type": "bar",
         "x": [
          "DTC",
          "Ensemble",
          "RFC",
          "SVC"
         ],
         "xaxis": "x",
         "y": [
          0.96711,
          0.95699,
          0.97085,
          0.87262
         ],
         "yaxis": "y"
        },
        {
         "alignmentgroup": "True",
         "hovertemplate": "metric=recall<br>model=%{x}<br>score=%{y}<extra></extra>",
         "legendgroup": "recall",
         "marker": {
          "color": "#00CC96",
          "pattern": {
           "shape": ""
          }
         },
         "name": "recall",
         "offsetgroup": "recall",
         "orientation": "v",
         "showlegend": true,
         "textposition": "auto",
         "texttemplate": "%{y:.5}",
         "type": "bar",
         "x": [
          "DTC",
          "Ensemble",
          "RFC",
          "SVC"
         ],
         "xaxis": "x",
         "y": [
          0.96078,
          0.9695,
          0.94336,
          1
         ],
         "yaxis": "y"
        },
        {
         "alignmentgroup": "True",
         "hovertemplate": "metric=f1_score<br>model=%{x}<br>score=%{y}<extra></extra>",
         "legendgroup": "f1_score",
         "marker": {
          "color": "#AB63FA",
          "pattern": {
           "shape": ""
          }
         },
         "name": "f1_score",
         "offsetgroup": "f1_score",
         "orientation": "v",
         "showlegend": true,
         "textposition": "auto",
         "texttemplate": "%{y:.5}",
         "type": "bar",
         "x": [
          "DTC",
          "Ensemble",
          "RFC",
          "SVC"
         ],
         "xaxis": "x",
         "y": [
          0.96393,
          0.9632,
          0.95691,
          0.93198
         ],
         "yaxis": "y"
        }
       ],
       "layout": {
        "barmode": "group",
        "legend": {
         "title": {
          "text": "metric"
         },
         "tracegroupgap": 0
        },
        "margin": {
         "t": 60
        },
        "template": {
         "data": {
          "bar": [
           {
            "error_x": {
             "color": "#2a3f5f"
            },
            "error_y": {
             "color": "#2a3f5f"
            },
            "marker": {
             "line": {
              "color": "#E5ECF6",
              "width": 0.5
             },
             "pattern": {
              "fillmode": "overlay",
              "size": 10,
              "solidity": 0.2
             }
            },
            "type": "bar"
           }
          ],
          "barpolar": [
           {
            "marker": {
             "line": {
              "color": "#E5ECF6",
              "width": 0.5
             },
             "pattern": {
              "fillmode": "overlay",
              "size": 10,
              "solidity": 0.2
             }
            },
            "type": "barpolar"
           }
          ],
          "carpet": [
           {
            "aaxis": {
             "endlinecolor": "#2a3f5f",
             "gridcolor": "white",
             "linecolor": "white",
             "minorgridcolor": "white",
             "startlinecolor": "#2a3f5f"
            },
            "baxis": {
             "endlinecolor": "#2a3f5f",
             "gridcolor": "white",
             "linecolor": "white",
             "minorgridcolor": "white",
             "startlinecolor": "#2a3f5f"
            },
            "type": "carpet"
           }
          ],
          "choropleth": [
           {
            "colorbar": {
             "outlinewidth": 0,
             "ticks": ""
            },
            "type": "choropleth"
           }
          ],
          "contour": [
           {
            "colorbar": {
             "outlinewidth": 0,
             "ticks": ""
            },
            "colorscale": [
             [
              0,
              "#0d0887"
             ],
             [
              0.1111111111111111,
              "#46039f"
             ],
             [
              0.2222222222222222,
              "#7201a8"
             ],
             [
              0.3333333333333333,
              "#9c179e"
             ],
             [
              0.4444444444444444,
              "#bd3786"
             ],
             [
              0.5555555555555556,
              "#d8576b"
             ],
             [
              0.6666666666666666,
              "#ed7953"
             ],
             [
              0.7777777777777778,
              "#fb9f3a"
             ],
             [
              0.8888888888888888,
              "#fdca26"
             ],
             [
              1,
              "#f0f921"
             ]
            ],
            "type": "contour"
           }
          ],
          "contourcarpet": [
           {
            "colorbar": {
             "outlinewidth": 0,
             "ticks": ""
            },
            "type": "contourcarpet"
           }
          ],
          "heatmap": [
           {
            "colorbar": {
             "outlinewidth": 0,
             "ticks": ""
            },
            "colorscale": [
             [
              0,
              "#0d0887"
             ],
             [
              0.1111111111111111,
              "#46039f"
             ],
             [
              0.2222222222222222,
              "#7201a8"
             ],
             [
              0.3333333333333333,
              "#9c179e"
             ],
             [
              0.4444444444444444,
              "#bd3786"
             ],
             [
              0.5555555555555556,
              "#d8576b"
             ],
             [
              0.6666666666666666,
              "#ed7953"
             ],
             [
              0.7777777777777778,
              "#fb9f3a"
             ],
             [
              0.8888888888888888,
              "#fdca26"
             ],
             [
              1,
              "#f0f921"
             ]
            ],
            "type": "heatmap"
           }
          ],
          "heatmapgl": [
           {
            "colorbar": {
             "outlinewidth": 0,
             "ticks": ""
            },
            "colorscale": [
             [
              0,
              "#0d0887"
             ],
             [
              0.1111111111111111,
              "#46039f"
             ],
             [
              0.2222222222222222,
              "#7201a8"
             ],
             [
              0.3333333333333333,
              "#9c179e"
             ],
             [
              0.4444444444444444,
              "#bd3786"
             ],
             [
              0.5555555555555556,
              "#d8576b"
             ],
             [
              0.6666666666666666,
              "#ed7953"
             ],
             [
              0.7777777777777778,
              "#fb9f3a"
             ],
             [
              0.8888888888888888,
              "#fdca26"
             ],
             [
              1,
              "#f0f921"
             ]
            ],
            "type": "heatmapgl"
           }
          ],
          "histogram": [
           {
            "marker": {
             "pattern": {
              "fillmode": "overlay",
              "size": 10,
              "solidity": 0.2
             }
            },
            "type": "histogram"
           }
          ],
          "histogram2d": [
           {
            "colorbar": {
             "outlinewidth": 0,
             "ticks": ""
            },
            "colorscale": [
             [
              0,
              "#0d0887"
             ],
             [
              0.1111111111111111,
              "#46039f"
             ],
             [
              0.2222222222222222,
              "#7201a8"
             ],
             [
              0.3333333333333333,
              "#9c179e"
             ],
             [
              0.4444444444444444,
              "#bd3786"
             ],
             [
              0.5555555555555556,
              "#d8576b"
             ],
             [
              0.6666666666666666,
              "#ed7953"
             ],
             [
              0.7777777777777778,
              "#fb9f3a"
             ],
             [
              0.8888888888888888,
              "#fdca26"
             ],
             [
              1,
              "#f0f921"
             ]
            ],
            "type": "histogram2d"
           }
          ],
          "histogram2dcontour": [
           {
            "colorbar": {
             "outlinewidth": 0,
             "ticks": ""
            },
            "colorscale": [
             [
              0,
              "#0d0887"
             ],
             [
              0.1111111111111111,
              "#46039f"
             ],
             [
              0.2222222222222222,
              "#7201a8"
             ],
             [
              0.3333333333333333,
              "#9c179e"
             ],
             [
              0.4444444444444444,
              "#bd3786"
             ],
             [
              0.5555555555555556,
              "#d8576b"
             ],
             [
              0.6666666666666666,
              "#ed7953"
             ],
             [
              0.7777777777777778,
              "#fb9f3a"
             ],
             [
              0.8888888888888888,
              "#fdca26"
             ],
             [
              1,
              "#f0f921"
             ]
            ],
            "type": "histogram2dcontour"
           }
          ],
          "mesh3d": [
           {
            "colorbar": {
             "outlinewidth": 0,
             "ticks": ""
            },
            "type": "mesh3d"
           }
          ],
          "parcoords": [
           {
            "line": {
             "colorbar": {
              "outlinewidth": 0,
              "ticks": ""
             }
            },
            "type": "parcoords"
           }
          ],
          "pie": [
           {
            "automargin": true,
            "type": "pie"
           }
          ],
          "scatter": [
           {
            "fillpattern": {
             "fillmode": "overlay",
             "size": 10,
             "solidity": 0.2
            },
            "type": "scatter"
           }
          ],
          "scatter3d": [
           {
            "line": {
             "colorbar": {
              "outlinewidth": 0,
              "ticks": ""
             }
            },
            "marker": {
             "colorbar": {
              "outlinewidth": 0,
              "ticks": ""
             }
            },
            "type": "scatter3d"
           }
          ],
          "scattercarpet": [
           {
            "marker": {
             "colorbar": {
              "outlinewidth": 0,
              "ticks": ""
             }
            },
            "type": "scattercarpet"
           }
          ],
          "scattergeo": [
           {
            "marker": {
             "colorbar": {
              "outlinewidth": 0,
              "ticks": ""
             }
            },
            "type": "scattergeo"
           }
          ],
          "scattergl": [
           {
            "marker": {
             "colorbar": {
              "outlinewidth": 0,
              "ticks": ""
             }
            },
            "type": "scattergl"
           }
          ],
          "scattermapbox": [
           {
            "marker": {
             "colorbar": {
              "outlinewidth": 0,
              "ticks": ""
             }
            },
            "type": "scattermapbox"
           }
          ],
          "scatterpolar": [
           {
            "marker": {
             "colorbar": {
              "outlinewidth": 0,
              "ticks": ""
             }
            },
            "type": "scatterpolar"
           }
          ],
          "scatterpolargl": [
           {
            "marker": {
             "colorbar": {
              "outlinewidth": 0,
              "ticks": ""
             }
            },
            "type": "scatterpolargl"
           }
          ],
          "scatterternary": [
           {
            "marker": {
             "colorbar": {
              "outlinewidth": 0,
              "ticks": ""
             }
            },
            "type": "scatterternary"
           }
          ],
          "surface": [
           {
            "colorbar": {
             "outlinewidth": 0,
             "ticks": ""
            },
            "colorscale": [
             [
              0,
              "#0d0887"
             ],
             [
              0.1111111111111111,
              "#46039f"
             ],
             [
              0.2222222222222222,
              "#7201a8"
             ],
             [
              0.3333333333333333,
              "#9c179e"
             ],
             [
              0.4444444444444444,
              "#bd3786"
             ],
             [
              0.5555555555555556,
              "#d8576b"
             ],
             [
              0.6666666666666666,
              "#ed7953"
             ],
             [
              0.7777777777777778,
              "#fb9f3a"
             ],
             [
              0.8888888888888888,
              "#fdca26"
             ],
             [
              1,
              "#f0f921"
             ]
            ],
            "type": "surface"
           }
          ],
          "table": [
           {
            "cells": {
             "fill": {
              "color": "#EBF0F8"
             },
             "line": {
              "color": "white"
             }
            },
            "header": {
             "fill": {
              "color": "#C8D4E3"
             },
             "line": {
              "color": "white"
             }
            },
            "type": "table"
           }
          ]
         },
         "layout": {
          "annotationdefaults": {
           "arrowcolor": "#2a3f5f",
           "arrowhead": 0,
           "arrowwidth": 1
          },
          "autotypenumbers": "strict",
          "coloraxis": {
           "colorbar": {
            "outlinewidth": 0,
            "ticks": ""
           }
          },
          "colorscale": {
           "diverging": [
            [
             0,
             "#8e0152"
            ],
            [
             0.1,
             "#c51b7d"
            ],
            [
             0.2,
             "#de77ae"
            ],
            [
             0.3,
             "#f1b6da"
            ],
            [
             0.4,
             "#fde0ef"
            ],
            [
             0.5,
             "#f7f7f7"
            ],
            [
             0.6,
             "#e6f5d0"
            ],
            [
             0.7,
             "#b8e186"
            ],
            [
             0.8,
             "#7fbc41"
            ],
            [
             0.9,
             "#4d9221"
            ],
            [
             1,
             "#276419"
            ]
           ],
           "sequential": [
            [
             0,
             "#0d0887"
            ],
            [
             0.1111111111111111,
             "#46039f"
            ],
            [
             0.2222222222222222,
             "#7201a8"
            ],
            [
             0.3333333333333333,
             "#9c179e"
            ],
            [
             0.4444444444444444,
             "#bd3786"
            ],
            [
             0.5555555555555556,
             "#d8576b"
            ],
            [
             0.6666666666666666,
             "#ed7953"
            ],
            [
             0.7777777777777778,
             "#fb9f3a"
            ],
            [
             0.8888888888888888,
             "#fdca26"
            ],
            [
             1,
             "#f0f921"
            ]
           ],
           "sequentialminus": [
            [
             0,
             "#0d0887"
            ],
            [
             0.1111111111111111,
             "#46039f"
            ],
            [
             0.2222222222222222,
             "#7201a8"
            ],
            [
             0.3333333333333333,
             "#9c179e"
            ],
            [
             0.4444444444444444,
             "#bd3786"
            ],
            [
             0.5555555555555556,
             "#d8576b"
            ],
            [
             0.6666666666666666,
             "#ed7953"
            ],
            [
             0.7777777777777778,
             "#fb9f3a"
            ],
            [
             0.8888888888888888,
             "#fdca26"
            ],
            [
             1,
             "#f0f921"
            ]
           ]
          },
          "colorway": [
           "#636efa",
           "#EF553B",
           "#00cc96",
           "#ab63fa",
           "#FFA15A",
           "#19d3f3",
           "#FF6692",
           "#B6E880",
           "#FF97FF",
           "#FECB52"
          ],
          "font": {
           "color": "#2a3f5f"
          },
          "geo": {
           "bgcolor": "white",
           "lakecolor": "white",
           "landcolor": "#E5ECF6",
           "showlakes": true,
           "showland": true,
           "subunitcolor": "white"
          },
          "hoverlabel": {
           "align": "left"
          },
          "hovermode": "closest",
          "mapbox": {
           "style": "light"
          },
          "paper_bgcolor": "white",
          "plot_bgcolor": "#E5ECF6",
          "polar": {
           "angularaxis": {
            "gridcolor": "white",
            "linecolor": "white",
            "ticks": ""
           },
           "bgcolor": "#E5ECF6",
           "radialaxis": {
            "gridcolor": "white",
            "linecolor": "white",
            "ticks": ""
           }
          },
          "scene": {
           "xaxis": {
            "backgroundcolor": "#E5ECF6",
            "gridcolor": "white",
            "gridwidth": 2,
            "linecolor": "white",
            "showbackground": true,
            "ticks": "",
            "zerolinecolor": "white"
           },
           "yaxis": {
            "backgroundcolor": "#E5ECF6",
            "gridcolor": "white",
            "gridwidth": 2,
            "linecolor": "white",
            "showbackground": true,
            "ticks": "",
            "zerolinecolor": "white"
           },
           "zaxis": {
            "backgroundcolor": "#E5ECF6",
            "gridcolor": "white",
            "gridwidth": 2,
            "linecolor": "white",
            "showbackground": true,
            "ticks": "",
            "zerolinecolor": "white"
           }
          },
          "shapedefaults": {
           "line": {
            "color": "#2a3f5f"
           }
          },
          "ternary": {
           "aaxis": {
            "gridcolor": "white",
            "linecolor": "white",
            "ticks": ""
           },
           "baxis": {
            "gridcolor": "white",
            "linecolor": "white",
            "ticks": ""
           },
           "bgcolor": "#E5ECF6",
           "caxis": {
            "gridcolor": "white",
            "linecolor": "white",
            "ticks": ""
           }
          },
          "title": {
           "x": 0.05
          },
          "xaxis": {
           "automargin": true,
           "gridcolor": "white",
           "linecolor": "white",
           "ticks": "",
           "title": {
            "standoff": 15
           },
           "zerolinecolor": "white",
           "zerolinewidth": 2
          },
          "yaxis": {
           "automargin": true,
           "gridcolor": "white",
           "linecolor": "white",
           "ticks": "",
           "title": {
            "standoff": 15
           },
           "zerolinecolor": "white",
           "zerolinewidth": 2
          }
         }
        },
        "xaxis": {
         "anchor": "y",
         "domain": [
          0,
          1
         ],
         "tickangle": 0,
         "title": {}
        },
        "yaxis": {
         "anchor": "x",
         "domain": [
          0,
          1
         ],
         "title": {
          "text": "Score"
         }
        }
       }
      }
     },
     "metadata": {},
     "output_type": "display_data"
    }
   ],
   "source": [
    "import plotly.express as px\n",
    "from sklearn.metrics import accuracy_score, precision_score, recall_score, f1_score\n",
    "import pandas as pd\n",
    "\n",
    "data = pd.DataFrame({'model': ['SVC', 'RFC', 'DTC', 'Ensemble'],\n",
    "                     'accuracy': [round(accuracy_score(y_test, y_pred_svc), 5),\n",
    "                                  round(accuracy_score(y_test, y_pred_rfc), 5),\n",
    "                                  round(accuracy_score(y_test, y_pred_dtc), 5),\n",
    "                                  round(accuracy_score(y_test, y_pred_ensemble), 5)],\n",
    "                     'precision': [round(precision_score(y_test, y_pred_svc), 5),\n",
    "                                   round(precision_score(y_test, y_pred_rfc), 5),\n",
    "                                   round(precision_score(y_test, y_pred_dtc), 5),\n",
    "                                   round(precision_score(y_test, y_pred_ensemble), 5)],\n",
    "                     'recall': [round(recall_score(y_test, y_pred_svc), 5),\n",
    "                                round(recall_score(y_test, y_pred_rfc), 5),\n",
    "                                round(recall_score(y_test, y_pred_dtc), 5),\n",
    "                                round(recall_score(y_test, y_pred_ensemble), 5)],\n",
    "                     'f1_score': [round(f1_score(y_test, y_pred_svc), 5),\n",
    "                                  round(f1_score(y_test, y_pred_rfc), 5),\n",
    "                                  round(f1_score(y_test, y_pred_dtc), 5),\n",
    "                                  round(f1_score(y_test, y_pred_ensemble), 5)]})\n",
    "\n",
    "# Sort the data based on f1_score\n",
    "data = data.sort_values(by='f1_score', ascending=False)\n",
    "\n",
    "# Melt the dataset to \"long-form\" format\n",
    "data_melted = pd.melt(data, id_vars=['model'], var_name='metric', value_name='score')\n",
    "\n",
    "# Create multi barplot with Plotly\n",
    "fig = px.bar(data_melted, x='model', y='score', color='metric',\n",
    "             color_discrete_sequence=['#636EFA', '#EF553B', '#00CC96', '#AB63FA'],\n",
    "             barmode='group', text_auto='.5')\n",
    "\n",
    "fig.update_layout(xaxis_tickangle=0, xaxis_title=None, yaxis_title='Score')\n",
    "fig.show()\n"
   ]
  },
  {
   "cell_type": "code",
   "execution_count": 431,
   "metadata": {},
   "outputs": [
    {
     "data": {
      "application/vnd.plotly.v1+json": {
       "config": {
        "plotlyServerURL": "https://plot.ly"
       },
       "data": [
        {
         "name": "SVC (AUC = 0.91849)",
         "type": "scatter",
         "x": [
          0,
          0.1630170316301703,
          1
         ],
         "y": [
          0,
          1,
          1
         ]
        },
        {
         "name": "RFC (AUC = 0.95586)",
         "type": "scatter",
         "x": [
          0,
          0.031630170316301706,
          1
         ],
         "y": [
          0,
          0.9433551198257081,
          1
         ]
        },
        {
         "name": "DTC (AUC = 0.96214)",
         "type": "scatter",
         "x": [
          0,
          0.0364963503649635,
          1
         ],
         "y": [
          0,
          0.9607843137254902,
          1
         ]
        },
        {
         "name": "Ensemble (AUC = 0.96042)",
         "type": "scatter",
         "x": [
          0,
          0.04866180048661801,
          1
         ],
         "y": [
          0,
          0.9694989106753813,
          1
         ]
        }
       ],
       "layout": {
        "annotations": [
         {
          "arrowcolor": "rgba(0,0,0,0)",
          "ax": 0,
          "ay": -40,
          "font": {
           "size": 12
          },
          "showarrow": false,
          "text": "Random Guess",
          "x": 0.5,
          "xref": "x",
          "y": 0.3,
          "yref": "y"
         }
        ],
        "legend": {
         "x": 0.7,
         "y": 0.2
        },
        "shapes": [
         {
          "line": {
           "color": "gray",
           "dash": "dash"
          },
          "type": "line",
          "x0": 0,
          "x1": 1,
          "y0": 0,
          "y1": 1
         }
        ],
        "template": {
         "data": {
          "bar": [
           {
            "error_x": {
             "color": "#2a3f5f"
            },
            "error_y": {
             "color": "#2a3f5f"
            },
            "marker": {
             "line": {
              "color": "#E5ECF6",
              "width": 0.5
             },
             "pattern": {
              "fillmode": "overlay",
              "size": 10,
              "solidity": 0.2
             }
            },
            "type": "bar"
           }
          ],
          "barpolar": [
           {
            "marker": {
             "line": {
              "color": "#E5ECF6",
              "width": 0.5
             },
             "pattern": {
              "fillmode": "overlay",
              "size": 10,
              "solidity": 0.2
             }
            },
            "type": "barpolar"
           }
          ],
          "carpet": [
           {
            "aaxis": {
             "endlinecolor": "#2a3f5f",
             "gridcolor": "white",
             "linecolor": "white",
             "minorgridcolor": "white",
             "startlinecolor": "#2a3f5f"
            },
            "baxis": {
             "endlinecolor": "#2a3f5f",
             "gridcolor": "white",
             "linecolor": "white",
             "minorgridcolor": "white",
             "startlinecolor": "#2a3f5f"
            },
            "type": "carpet"
           }
          ],
          "choropleth": [
           {
            "colorbar": {
             "outlinewidth": 0,
             "ticks": ""
            },
            "type": "choropleth"
           }
          ],
          "contour": [
           {
            "colorbar": {
             "outlinewidth": 0,
             "ticks": ""
            },
            "colorscale": [
             [
              0,
              "#0d0887"
             ],
             [
              0.1111111111111111,
              "#46039f"
             ],
             [
              0.2222222222222222,
              "#7201a8"
             ],
             [
              0.3333333333333333,
              "#9c179e"
             ],
             [
              0.4444444444444444,
              "#bd3786"
             ],
             [
              0.5555555555555556,
              "#d8576b"
             ],
             [
              0.6666666666666666,
              "#ed7953"
             ],
             [
              0.7777777777777778,
              "#fb9f3a"
             ],
             [
              0.8888888888888888,
              "#fdca26"
             ],
             [
              1,
              "#f0f921"
             ]
            ],
            "type": "contour"
           }
          ],
          "contourcarpet": [
           {
            "colorbar": {
             "outlinewidth": 0,
             "ticks": ""
            },
            "type": "contourcarpet"
           }
          ],
          "heatmap": [
           {
            "colorbar": {
             "outlinewidth": 0,
             "ticks": ""
            },
            "colorscale": [
             [
              0,
              "#0d0887"
             ],
             [
              0.1111111111111111,
              "#46039f"
             ],
             [
              0.2222222222222222,
              "#7201a8"
             ],
             [
              0.3333333333333333,
              "#9c179e"
             ],
             [
              0.4444444444444444,
              "#bd3786"
             ],
             [
              0.5555555555555556,
              "#d8576b"
             ],
             [
              0.6666666666666666,
              "#ed7953"
             ],
             [
              0.7777777777777778,
              "#fb9f3a"
             ],
             [
              0.8888888888888888,
              "#fdca26"
             ],
             [
              1,
              "#f0f921"
             ]
            ],
            "type": "heatmap"
           }
          ],
          "heatmapgl": [
           {
            "colorbar": {
             "outlinewidth": 0,
             "ticks": ""
            },
            "colorscale": [
             [
              0,
              "#0d0887"
             ],
             [
              0.1111111111111111,
              "#46039f"
             ],
             [
              0.2222222222222222,
              "#7201a8"
             ],
             [
              0.3333333333333333,
              "#9c179e"
             ],
             [
              0.4444444444444444,
              "#bd3786"
             ],
             [
              0.5555555555555556,
              "#d8576b"
             ],
             [
              0.6666666666666666,
              "#ed7953"
             ],
             [
              0.7777777777777778,
              "#fb9f3a"
             ],
             [
              0.8888888888888888,
              "#fdca26"
             ],
             [
              1,
              "#f0f921"
             ]
            ],
            "type": "heatmapgl"
           }
          ],
          "histogram": [
           {
            "marker": {
             "pattern": {
              "fillmode": "overlay",
              "size": 10,
              "solidity": 0.2
             }
            },
            "type": "histogram"
           }
          ],
          "histogram2d": [
           {
            "colorbar": {
             "outlinewidth": 0,
             "ticks": ""
            },
            "colorscale": [
             [
              0,
              "#0d0887"
             ],
             [
              0.1111111111111111,
              "#46039f"
             ],
             [
              0.2222222222222222,
              "#7201a8"
             ],
             [
              0.3333333333333333,
              "#9c179e"
             ],
             [
              0.4444444444444444,
              "#bd3786"
             ],
             [
              0.5555555555555556,
              "#d8576b"
             ],
             [
              0.6666666666666666,
              "#ed7953"
             ],
             [
              0.7777777777777778,
              "#fb9f3a"
             ],
             [
              0.8888888888888888,
              "#fdca26"
             ],
             [
              1,
              "#f0f921"
             ]
            ],
            "type": "histogram2d"
           }
          ],
          "histogram2dcontour": [
           {
            "colorbar": {
             "outlinewidth": 0,
             "ticks": ""
            },
            "colorscale": [
             [
              0,
              "#0d0887"
             ],
             [
              0.1111111111111111,
              "#46039f"
             ],
             [
              0.2222222222222222,
              "#7201a8"
             ],
             [
              0.3333333333333333,
              "#9c179e"
             ],
             [
              0.4444444444444444,
              "#bd3786"
             ],
             [
              0.5555555555555556,
              "#d8576b"
             ],
             [
              0.6666666666666666,
              "#ed7953"
             ],
             [
              0.7777777777777778,
              "#fb9f3a"
             ],
             [
              0.8888888888888888,
              "#fdca26"
             ],
             [
              1,
              "#f0f921"
             ]
            ],
            "type": "histogram2dcontour"
           }
          ],
          "mesh3d": [
           {
            "colorbar": {
             "outlinewidth": 0,
             "ticks": ""
            },
            "type": "mesh3d"
           }
          ],
          "parcoords": [
           {
            "line": {
             "colorbar": {
              "outlinewidth": 0,
              "ticks": ""
             }
            },
            "type": "parcoords"
           }
          ],
          "pie": [
           {
            "automargin": true,
            "type": "pie"
           }
          ],
          "scatter": [
           {
            "fillpattern": {
             "fillmode": "overlay",
             "size": 10,
             "solidity": 0.2
            },
            "type": "scatter"
           }
          ],
          "scatter3d": [
           {
            "line": {
             "colorbar": {
              "outlinewidth": 0,
              "ticks": ""
             }
            },
            "marker": {
             "colorbar": {
              "outlinewidth": 0,
              "ticks": ""
             }
            },
            "type": "scatter3d"
           }
          ],
          "scattercarpet": [
           {
            "marker": {
             "colorbar": {
              "outlinewidth": 0,
              "ticks": ""
             }
            },
            "type": "scattercarpet"
           }
          ],
          "scattergeo": [
           {
            "marker": {
             "colorbar": {
              "outlinewidth": 0,
              "ticks": ""
             }
            },
            "type": "scattergeo"
           }
          ],
          "scattergl": [
           {
            "marker": {
             "colorbar": {
              "outlinewidth": 0,
              "ticks": ""
             }
            },
            "type": "scattergl"
           }
          ],
          "scattermapbox": [
           {
            "marker": {
             "colorbar": {
              "outlinewidth": 0,
              "ticks": ""
             }
            },
            "type": "scattermapbox"
           }
          ],
          "scatterpolar": [
           {
            "marker": {
             "colorbar": {
              "outlinewidth": 0,
              "ticks": ""
             }
            },
            "type": "scatterpolar"
           }
          ],
          "scatterpolargl": [
           {
            "marker": {
             "colorbar": {
              "outlinewidth": 0,
              "ticks": ""
             }
            },
            "type": "scatterpolargl"
           }
          ],
          "scatterternary": [
           {
            "marker": {
             "colorbar": {
              "outlinewidth": 0,
              "ticks": ""
             }
            },
            "type": "scatterternary"
           }
          ],
          "surface": [
           {
            "colorbar": {
             "outlinewidth": 0,
             "ticks": ""
            },
            "colorscale": [
             [
              0,
              "#0d0887"
             ],
             [
              0.1111111111111111,
              "#46039f"
             ],
             [
              0.2222222222222222,
              "#7201a8"
             ],
             [
              0.3333333333333333,
              "#9c179e"
             ],
             [
              0.4444444444444444,
              "#bd3786"
             ],
             [
              0.5555555555555556,
              "#d8576b"
             ],
             [
              0.6666666666666666,
              "#ed7953"
             ],
             [
              0.7777777777777778,
              "#fb9f3a"
             ],
             [
              0.8888888888888888,
              "#fdca26"
             ],
             [
              1,
              "#f0f921"
             ]
            ],
            "type": "surface"
           }
          ],
          "table": [
           {
            "cells": {
             "fill": {
              "color": "#EBF0F8"
             },
             "line": {
              "color": "white"
             }
            },
            "header": {
             "fill": {
              "color": "#C8D4E3"
             },
             "line": {
              "color": "white"
             }
            },
            "type": "table"
           }
          ]
         },
         "layout": {
          "annotationdefaults": {
           "arrowcolor": "#2a3f5f",
           "arrowhead": 0,
           "arrowwidth": 1
          },
          "autotypenumbers": "strict",
          "coloraxis": {
           "colorbar": {
            "outlinewidth": 0,
            "ticks": ""
           }
          },
          "colorscale": {
           "diverging": [
            [
             0,
             "#8e0152"
            ],
            [
             0.1,
             "#c51b7d"
            ],
            [
             0.2,
             "#de77ae"
            ],
            [
             0.3,
             "#f1b6da"
            ],
            [
             0.4,
             "#fde0ef"
            ],
            [
             0.5,
             "#f7f7f7"
            ],
            [
             0.6,
             "#e6f5d0"
            ],
            [
             0.7,
             "#b8e186"
            ],
            [
             0.8,
             "#7fbc41"
            ],
            [
             0.9,
             "#4d9221"
            ],
            [
             1,
             "#276419"
            ]
           ],
           "sequential": [
            [
             0,
             "#0d0887"
            ],
            [
             0.1111111111111111,
             "#46039f"
            ],
            [
             0.2222222222222222,
             "#7201a8"
            ],
            [
             0.3333333333333333,
             "#9c179e"
            ],
            [
             0.4444444444444444,
             "#bd3786"
            ],
            [
             0.5555555555555556,
             "#d8576b"
            ],
            [
             0.6666666666666666,
             "#ed7953"
            ],
            [
             0.7777777777777778,
             "#fb9f3a"
            ],
            [
             0.8888888888888888,
             "#fdca26"
            ],
            [
             1,
             "#f0f921"
            ]
           ],
           "sequentialminus": [
            [
             0,
             "#0d0887"
            ],
            [
             0.1111111111111111,
             "#46039f"
            ],
            [
             0.2222222222222222,
             "#7201a8"
            ],
            [
             0.3333333333333333,
             "#9c179e"
            ],
            [
             0.4444444444444444,
             "#bd3786"
            ],
            [
             0.5555555555555556,
             "#d8576b"
            ],
            [
             0.6666666666666666,
             "#ed7953"
            ],
            [
             0.7777777777777778,
             "#fb9f3a"
            ],
            [
             0.8888888888888888,
             "#fdca26"
            ],
            [
             1,
             "#f0f921"
            ]
           ]
          },
          "colorway": [
           "#636efa",
           "#EF553B",
           "#00cc96",
           "#ab63fa",
           "#FFA15A",
           "#19d3f3",
           "#FF6692",
           "#B6E880",
           "#FF97FF",
           "#FECB52"
          ],
          "font": {
           "color": "#2a3f5f"
          },
          "geo": {
           "bgcolor": "white",
           "lakecolor": "white",
           "landcolor": "#E5ECF6",
           "showlakes": true,
           "showland": true,
           "subunitcolor": "white"
          },
          "hoverlabel": {
           "align": "left"
          },
          "hovermode": "closest",
          "mapbox": {
           "style": "light"
          },
          "paper_bgcolor": "white",
          "plot_bgcolor": "#E5ECF6",
          "polar": {
           "angularaxis": {
            "gridcolor": "white",
            "linecolor": "white",
            "ticks": ""
           },
           "bgcolor": "#E5ECF6",
           "radialaxis": {
            "gridcolor": "white",
            "linecolor": "white",
            "ticks": ""
           }
          },
          "scene": {
           "xaxis": {
            "backgroundcolor": "#E5ECF6",
            "gridcolor": "white",
            "gridwidth": 2,
            "linecolor": "white",
            "showbackground": true,
            "ticks": "",
            "zerolinecolor": "white"
           },
           "yaxis": {
            "backgroundcolor": "#E5ECF6",
            "gridcolor": "white",
            "gridwidth": 2,
            "linecolor": "white",
            "showbackground": true,
            "ticks": "",
            "zerolinecolor": "white"
           },
           "zaxis": {
            "backgroundcolor": "#E5ECF6",
            "gridcolor": "white",
            "gridwidth": 2,
            "linecolor": "white",
            "showbackground": true,
            "ticks": "",
            "zerolinecolor": "white"
           }
          },
          "shapedefaults": {
           "line": {
            "color": "#2a3f5f"
           }
          },
          "ternary": {
           "aaxis": {
            "gridcolor": "white",
            "linecolor": "white",
            "ticks": ""
           },
           "baxis": {
            "gridcolor": "white",
            "linecolor": "white",
            "ticks": ""
           },
           "bgcolor": "#E5ECF6",
           "caxis": {
            "gridcolor": "white",
            "linecolor": "white",
            "ticks": ""
           }
          },
          "title": {
           "x": 0.05
          },
          "xaxis": {
           "automargin": true,
           "gridcolor": "white",
           "linecolor": "white",
           "ticks": "",
           "title": {
            "standoff": 15
           },
           "zerolinecolor": "white",
           "zerolinewidth": 2
          },
          "yaxis": {
           "automargin": true,
           "gridcolor": "white",
           "linecolor": "white",
           "ticks": "",
           "title": {
            "standoff": 15
           },
           "zerolinecolor": "white",
           "zerolinewidth": 2
          }
         }
        },
        "title": {
         "text": "Receiver Operating Characteristic (ROC) Curve"
        },
        "xaxis": {
         "dtick": 0.1,
         "range": [
          0,
          1
         ],
         "title": {
          "text": "False Positive Rate"
         }
        },
        "yaxis": {
         "dtick": 0.1,
         "range": [
          0,
          1
         ],
         "title": {
          "text": "True Positive Rate"
         }
        }
       }
      }
     },
     "metadata": {},
     "output_type": "display_data"
    }
   ],
   "source": [
    "import plotly.graph_objects as go\n",
    "from sklearn.metrics import roc_curve, auc\n",
    "\n",
    "# Compute ROC curve and AUC for each model\n",
    "models = ['SVC', 'RFC', 'DTC', 'Ensemble']\n",
    "y_preds = [y_pred_svc, y_pred_rfc, y_pred_dtc, y_pred_ensemble]\n",
    "roc_auc_scores = []\n",
    "\n",
    "fig = go.Figure()\n",
    "\n",
    "for model, y_pred in zip(models, y_preds):\n",
    "    fpr, tpr, _ = roc_curve(y_test, y_pred)\n",
    "    roc_auc = auc(fpr, tpr)\n",
    "    roc_auc_scores.append(roc_auc)\n",
    "    fig.add_trace(go.Scatter(x=fpr, y=tpr, name=f'{model} (AUC = {roc_auc:.5f})'))\n",
    "\n",
    "fig.update_layout(\n",
    "    title='Receiver Operating Characteristic (ROC) Curve',\n",
    "    xaxis_title='False Positive Rate',\n",
    "    yaxis_title='True Positive Rate',\n",
    "    xaxis=dict(range=[0, 1], dtick=0.1),\n",
    "    yaxis=dict(range=[0, 1], dtick=0.1),\n",
    "    legend=dict(x=0.7, y=0.2),\n",
    ")\n",
    "\n",
    "fig.add_shape(\n",
    "    type='line',\n",
    "    x0=0,\n",
    "    y0=0,\n",
    "    x1=1,\n",
    "    y1=1,\n",
    "    line=dict(color='gray', dash='dash'),\n",
    ")\n",
    "\n",
    "fig.add_annotation(\n",
    "    x=0.5,\n",
    "    y=0.3,\n",
    "    text='Random Guess',\n",
    "    showarrow=False,\n",
    "    font=dict(size=12),\n",
    ")\n",
    "\n",
    "fig.update_annotations(dict(\n",
    "    xref=\"x\",\n",
    "    yref=\"y\",\n",
    "    arrowcolor=\"rgba(0,0,0,0)\",\n",
    "    ax=0,\n",
    "    ay=-40\n",
    "))\n",
    "\n",
    "fig.show()\n"
   ]
  },
  {
   "attachments": {},
   "cell_type": "markdown",
   "metadata": {},
   "source": [
    "# Cross Validation"
   ]
  },
  {
   "cell_type": "code",
   "execution_count": 432,
   "metadata": {},
   "outputs": [],
   "source": [
    "# Definisikan model Decision Tree Classifier\n",
    "dtc = DecisionTreeClassifier(random_state=42,criterion='gini',max_depth=None,min_samples_leaf=3,min_samples_split=2)\n",
    "# Defining the RFC model with the specified parameters\n",
    "rfc_model = RandomForestClassifier(n_estimators=822, min_samples_split=5, min_samples_leaf=5, max_features='sqrt', max_depth=200)\n",
    "# Defining the SVC model with the specified parameters\n",
    "svc_model = SVC(C=875.5435906835379, coef0=0.7212236263601225, degree=2, gamma=0.2521164544469635, kernel='rbf')\n",
    "\n",
    "\n",
    "# Initialize ensemble classifier\n",
    "ensemble = VotingClassifier(estimators=[('svc', svc_model),('rfc', rfc_model), ('dtc',dtc)],verbose=1,n_jobs=-1,voting='hard')\n"
   ]
  },
  {
   "cell_type": "code",
   "execution_count": 433,
   "metadata": {},
   "outputs": [],
   "source": [
    "# Stratified K fold\n",
    "from sklearn.model_selection import StratifiedKFold, KFold,cross_val_score, cross_val_predict\n",
    "sk_folds = StratifiedKFold(n_splits = 5,random_state=123,shuffle=True)"
   ]
  },
  {
   "cell_type": "code",
   "execution_count": 434,
   "metadata": {},
   "outputs": [
    {
     "name": "stdout",
     "output_type": "stream",
     "text": [
      "Cross Validation Scores:  [0.94505495 0.95535714 0.94900222 0.91648822 0.95749441]\n",
      "Average CV Score:  0.9446793870127795\n",
      "Number of CV Scores used in Average:  5\n"
     ]
    }
   ],
   "source": [
    "from sklearn.metrics import make_scorer, f1_score\n",
    "cv_results = cross_val_score(svc_model, X_train, y_train, cv=sk_folds,scoring=make_scorer(f1_score))\n",
    "\n",
    "print(\"Cross Validation Scores: \", cv_results)\n",
    "print(\"Average CV Score: \", cv_results.mean())\n",
    "print(\"Number of CV Scores used in Average: \", len(cv_results))"
   ]
  },
  {
   "cell_type": "code",
   "execution_count": 435,
   "metadata": {},
   "outputs": [
    {
     "name": "stdout",
     "output_type": "stream",
     "text": [
      "Cross Validation Scores:  [0.93569845 0.95302013 0.94666667 0.91648822 0.95749441]\n",
      "Average CV Score:  0.9418735757290669\n",
      "Number of CV Scores used in Average:  5\n"
     ]
    }
   ],
   "source": [
    "cv_results = cross_val_score(rfc_model, X_train, y_train, cv=sk_folds,scoring=make_scorer(f1_score))\n",
    "\n",
    "print(\"Cross Validation Scores: \", cv_results)\n",
    "print(\"Average CV Score: \", cv_results.mean())\n",
    "print(\"Number of CV Scores used in Average: \", len(cv_results))"
   ]
  },
  {
   "cell_type": "code",
   "execution_count": 436,
   "metadata": {},
   "outputs": [
    {
     "name": "stdout",
     "output_type": "stream",
     "text": [
      "Cross Validation Scores:  [0.93569845 0.95535714 0.94900222 0.91648822 0.95111111]\n",
      "Average CV Score:  0.9415314283709593\n",
      "Number of CV Scores used in Average:  5\n"
     ]
    }
   ],
   "source": [
    "cv_results = cross_val_score(dtc, X_train, y_train, cv=sk_folds,scoring=make_scorer(f1_score))\n",
    "\n",
    "print(\"Cross Validation Scores: \", cv_results)\n",
    "print(\"Average CV Score: \", cv_results.mean())\n",
    "print(\"Number of CV Scores used in Average: \", len(cv_results))"
   ]
  },
  {
   "cell_type": "code",
   "execution_count": 437,
   "metadata": {},
   "outputs": [
    {
     "name": "stdout",
     "output_type": "stream",
     "text": [
      "Cross Validation Scores:  [0.93569845 0.95535714 0.94900222 0.91648822 0.95749441]\n",
      "Average CV Score:  0.9428080875805044\n",
      "Number of CV Scores used in Average:  5\n"
     ]
    }
   ],
   "source": [
    "cv_results = cross_val_score(ensemble, X_train, y_train, cv=sk_folds,scoring=make_scorer(f1_score))\n",
    "\n",
    "print(\"Cross Validation Scores: \", cv_results)\n",
    "print(\"Average CV Score: \", cv_results.mean())\n",
    "print(\"Number of CV Scores used in Average: \", len(cv_results))"
   ]
  },
  {
   "cell_type": "code",
   "execution_count": null,
   "metadata": {},
   "outputs": [],
   "source": []
  },
  {
   "cell_type": "code",
   "execution_count": null,
   "metadata": {},
   "outputs": [],
   "source": []
  }
 ],
 "metadata": {
  "kernelspec": {
   "display_name": "Python 3",
   "language": "python",
   "name": "python3"
  },
  "language_info": {
   "codemirror_mode": {
    "name": "ipython",
    "version": 3
   },
   "file_extension": ".py",
   "mimetype": "text/x-python",
   "name": "python",
   "nbconvert_exporter": "python",
   "pygments_lexer": "ipython3",
   "version": "3.10.9"
  },
  "orig_nbformat": 4
 },
 "nbformat": 4,
 "nbformat_minor": 2
}
