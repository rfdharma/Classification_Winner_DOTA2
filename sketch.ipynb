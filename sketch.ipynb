{
 "cells": [
  {
   "cell_type": "code",
   "execution_count": 4,
   "metadata": {},
   "outputs": [],
   "source": [
    "import pandas as pd\n",
    "pd.set_option('display.max_columns',None)"
   ]
  },
  {
   "cell_type": "code",
   "execution_count": 144,
   "metadata": {},
   "outputs": [],
   "source": [
    "# data = [\n",
    "#     6807768064, 6809701946, 6809612544, 6808292501, 6809547720, 6818704228, 6810906509,\n",
    "#     6809417360, 6810863490, 6809742301, 6810944275, 6808348917, 6806142086, 6808178906,\n",
    "#     6811140084, 6817224250, 6806158709, 6810932324, 6806291706, 6813739089, 6817320059,\n",
    "#     6810984589, 6806101302, 6806146943, 6829521976, 6809888330, 6809417403, 6829692346,\n",
    "#     6818469926\n",
    "# ]\n",
    "\n",
    "# duplicated_data = []\n",
    "# for i in range(len(data)):\n",
    "#     duplicated_data.append(data[i])\n",
    "#     duplicated_data.append(data[i])\n",
    "\n",
    "# print(duplicated_data)\n"
   ]
  },
  {
   "cell_type": "code",
   "execution_count": 145,
   "metadata": {},
   "outputs": [],
   "source": [
    "# # Membuat DataFrame dari list duplicated_data\n",
    "# df = pd.DataFrame(duplicated_data, columns=['Data'])\n",
    "\n",
    "# # Membuat file Excel dari DataFrame\n",
    "# filename = 'id_duplikat.xlsx'\n",
    "# df.to_excel(filename, index=False)\n",
    "\n",
    "# print(\"Data berhasil disimpan dalam file Excel:\", filename)"
   ]
  },
  {
   "cell_type": "code",
   "execution_count": 116,
   "metadata": {},
   "outputs": [],
   "source": [
    "data_gspread = pd.read_excel('matches_details1.xlsx')\n",
    "columns_to_drop = [\n",
    "    '3.additional_units.0.item_0',\n",
    "    '3.additional_units.0.item_1',\n",
    "    '3.additional_units.0.item_2',\n",
    "    '3.additional_units.0.item_3',\n",
    "    '3.additional_units.0.item_4',\n",
    "    '3.additional_units.0.item_5',\n",
    "    '3.additional_units.0.item_neutral',\n",
    "    '6.additional_units.0.item_0',\n",
    "    '6.additional_units.0.item_1',\n",
    "    '6.additional_units.0.item_2',\n",
    "    '6.additional_units.0.item_3',\n",
    "    '6.additional_units.0.item_4',\n",
    "    '6.additional_units.0.item_5',\n",
    "    '6.additional_units.0.item_neutral'\n",
    "]\n",
    "\n",
    "# Melakukan drop table\n",
    "data_gspread = data_gspread.drop(columns=columns_to_drop)"
   ]
  },
  {
   "cell_type": "code",
   "execution_count": 137,
   "metadata": {},
   "outputs": [],
   "source": [
    "# Proses perubahan dataframe\n",
    "new_data_ganjil = {\n",
    "    'hero_1': data_gspread['0.hero_id'].values,\n",
    "    'hero_2': data_gspread['1.hero_id'].values,\n",
    "    'hero_3': data_gspread['2.hero_id'].values,\n",
    "    'hero_4': data_gspread['3.hero_id'].values,\n",
    "    'hero_5': data_gspread['4.hero_id'].values,\n",
    "    'IH1_1': data_gspread['0.item_0'].values,\n",
    "    'IH1_2': data_gspread['0.item_1'].values,\n",
    "    'IH1_3': data_gspread['0.item_2'].values,\n",
    "    'IH1_4': data_gspread['0.item_3'].values,\n",
    "    'IH1_5': data_gspread['0.item_4'].values,\n",
    "    'IH1_6': data_gspread['0.item_5'].values,\n",
    "    'IH1_7': data_gspread['0.item_neutral'].values,\n",
    "    'IH2_1': data_gspread['1.item_0'].values,\n",
    "    'IH2_2': data_gspread['1.item_1'].values,\n",
    "    'IH2_3': data_gspread['1.item_2'].values,\n",
    "    'IH2_4': data_gspread['1.item_3'].values,\n",
    "    'IH2_5': data_gspread['1.item_4'].values,\n",
    "    'IH2_6': data_gspread['1.item_5'].values,\n",
    "    'IH2_7': data_gspread['1.item_neutral'].values,\n",
    "    'IH3_1': data_gspread['2.item_0'].values,\n",
    "    'IH3_2': data_gspread['2.item_1'].values,\n",
    "    'IH3_3': data_gspread['2.item_2'].values,\n",
    "    'IH3_4': data_gspread['2.item_3'].values,\n",
    "    'IH3_5': data_gspread['2.item_4'].values,\n",
    "    'IH3_6': data_gspread['2.item_5'].values,\n",
    "    'IH3_7': data_gspread['2.item_neutral'].values,\n",
    "    'IH4_1': data_gspread['3.item_0'].values,\n",
    "    'IH4_2': data_gspread['3.item_1'].values,\n",
    "    'IH4_3': data_gspread['3.item_2'].values,\n",
    "    'IH4_4': data_gspread['3.item_3'].values,\n",
    "    'IH4_5': data_gspread['3.item_4'].values,\n",
    "    'IH4_6': data_gspread['3.item_5'].values,\n",
    "    'IH4_7': data_gspread['3.item_neutral'].values,\n",
    "    'IH5_1': data_gspread['4.item_0'].values,\n",
    "    'IH5_2': data_gspread['4.item_1'].values,\n",
    "    'IH5_3': data_gspread['4.item_2'].values,\n",
    "    'IH5_4': data_gspread['4.item_3'].values,\n",
    "    'IH5_5': data_gspread['4.item_4'].values,\n",
    "    'IH5_6': data_gspread['4.item_5'].values,\n",
    "    'IH5_7': data_gspread['4.item_neutral'].values\n",
    "}\n",
    "\n",
    "new_data_gspread_ganjil = pd.DataFrame(new_data_ganjil)\n"
   ]
  },
  {
   "cell_type": "code",
   "execution_count": 142,
   "metadata": {},
   "outputs": [
    {
     "name": "stdout",
     "output_type": "stream",
     "text": [
      "Data berhasil disimpan dalam file Excel: new_data_gspread_ganjil.xlsx\n"
     ]
    }
   ],
   "source": [
    "\n",
    "# Membuat file Excel dari DataFrame\n",
    "filename = 'new_data_gspread_ganjil.xlsx'\n",
    "new_data_gspread_ganjil.to_excel(filename, index=False)\n",
    "\n",
    "print(\"Data berhasil disimpan dalam file Excel:\", filename)"
   ]
  },
  {
   "cell_type": "code",
   "execution_count": 140,
   "metadata": {},
   "outputs": [],
   "source": [
    "# Proses perubahan dataframe\n",
    "new_data_genap = {\n",
    "    'hero_1': data_gspread['5.hero_id'].values,\n",
    "    'hero_2': data_gspread['6.hero_id'].values,\n",
    "    'hero_3': data_gspread['7.hero_id'].values,\n",
    "    'hero_4': data_gspread['8.hero_id'].values,\n",
    "    'hero_5': data_gspread['9.hero_id'].values,\n",
    "    'IH1_1': data_gspread['5.item_0'].values,\n",
    "    'IH1_2': data_gspread['5.item_1'].values,\n",
    "    'IH1_3': data_gspread['5.item_2'].values,\n",
    "    'IH1_4': data_gspread['5.item_3'].values,\n",
    "    'IH1_5': data_gspread['5.item_4'].values,\n",
    "    'IH1_6': data_gspread['5.item_5'].values,\n",
    "    'IH1_7': data_gspread['5.item_neutral'].values,\n",
    "    'IH2_1': data_gspread['6.item_0'].values,\n",
    "    'IH2_2': data_gspread['6.item_1'].values,\n",
    "    'IH2_3': data_gspread['6.item_2'].values,\n",
    "    'IH2_4': data_gspread['6.item_3'].values,\n",
    "    'IH2_5': data_gspread['6.item_4'].values,\n",
    "    'IH2_6': data_gspread['6.item_5'].values,\n",
    "    'IH2_7': data_gspread['6.item_neutral'].values,\n",
    "    'IH3_1': data_gspread['7.item_0'].values,\n",
    "    'IH3_2': data_gspread['7.item_1'].values,\n",
    "    'IH3_3': data_gspread['7.item_2'].values,\n",
    "    'IH3_4': data_gspread['7.item_3'].values,\n",
    "    'IH3_5': data_gspread['7.item_4'].values,\n",
    "    'IH3_6': data_gspread['7.item_5'].values,\n",
    "    'IH3_7': data_gspread['7.item_neutral'].values,\n",
    "    'IH4_1': data_gspread['8.item_0'].values,\n",
    "    'IH4_2': data_gspread['8.item_1'].values,\n",
    "    'IH4_3': data_gspread['8.item_2'].values,\n",
    "    'IH4_4': data_gspread['8.item_3'].values,\n",
    "    'IH4_5': data_gspread['8.item_4'].values,\n",
    "    'IH4_6': data_gspread['8.item_5'].values,\n",
    "    'IH4_7': data_gspread['8.item_neutral'].values,\n",
    "    'IH5_1': data_gspread['9.item_0'].values,\n",
    "    'IH5_2': data_gspread['9.item_1'].values,\n",
    "    'IH5_3': data_gspread['9.item_2'].values,\n",
    "    'IH5_4': data_gspread['9.item_3'].values,\n",
    "    'IH5_5': data_gspread['9.item_4'].values,\n",
    "    'IH5_6': data_gspread['9.item_5'].values,\n",
    "    'IH5_7': data_gspread['9.item_neutral'].values\n",
    "}\n",
    "\n",
    "new_data_gspread_genap = pd.DataFrame(new_data_genap)\n"
   ]
  },
  {
   "cell_type": "code",
   "execution_count": 143,
   "metadata": {},
   "outputs": [
    {
     "name": "stdout",
     "output_type": "stream",
     "text": [
      "Data berhasil disimpan dalam file Excel: new_data_gspread_genap.xlsx\n"
     ]
    }
   ],
   "source": [
    "\n",
    "# Membuat file Excel dari DataFrame\n",
    "filename = 'new_data_gspread_genap.xlsx'\n",
    "new_data_gspread_genap.to_excel(filename, index=False)\n",
    "\n",
    "print(\"Data berhasil disimpan dalam file Excel:\", filename)"
   ]
  },
  {
   "cell_type": "code",
   "execution_count": null,
   "metadata": {},
   "outputs": [],
   "source": []
  }
 ],
 "metadata": {
  "kernelspec": {
   "display_name": "Python 3",
   "language": "python",
   "name": "python3"
  },
  "language_info": {
   "codemirror_mode": {
    "name": "ipython",
    "version": 3
   },
   "file_extension": ".py",
   "mimetype": "text/x-python",
   "name": "python",
   "nbconvert_exporter": "python",
   "pygments_lexer": "ipython3",
   "version": "3.10.9"
  },
  "orig_nbformat": 4
 },
 "nbformat": 4,
 "nbformat_minor": 2
}
